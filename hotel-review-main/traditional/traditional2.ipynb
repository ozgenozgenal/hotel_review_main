{
 "cells": [
  {
   "cell_type": "code",
   "execution_count": 2,
   "metadata": {},
   "outputs": [],
   "source": [
    "import os\n",
    "import re\n",
    "import openpyxl\n",
    "import numpy as np\n",
    "import pandas as pd\n",
    "import seaborn as sns\n",
    "import matplotlib.pyplot as plt\n",
    "\n",
    "from vaderSentiment.vaderSentiment import SentimentIntensityAnalyzer\n",
    "\n",
    "from sklearn.model_selection import train_test_split\n",
    "from sklearn.linear_model import LogisticRegression\n",
    "from sklearn.metrics import classification_report, confusion_matrix, roc_auc_score\n",
    "from sklearn.feature_extraction.text import CountVectorizer\n",
    "\n",
    "import nltk\n",
    "from nltk.corpus import stopwords, wordnet as wn\n",
    "from nltk.tokenize import word_tokenize\n",
    "from nltk.stem import WordNetLemmatizer"
   ]
  },
  {
   "cell_type": "code",
   "execution_count": 5,
   "metadata": {},
   "outputs": [],
   "source": [
    "# Read each hotel file from each city folder\n",
    "def read_and_parse_files(data_directory):\n",
    "    reviews = []\n",
    "    for root, dirs, files in os.walk(data_directory):\n",
    "        for file_name in files:\n",
    "            path = os.path.join(root, file_name)\n",
    "            parts = path.split(os.sep)\n",
    "            city = parts[-2]\n",
    "            hotel_name = file_name.replace('_', ' ')\n",
    "\n",
    "            with open(path, 'r', encoding='ISO-8859-1') as file:\n",
    "                for line in file:\n",
    "                    match = re.match(r'(\\w+ \\d+ \\d{4})\\s+(.*)', line) # regex for parsing date and review\n",
    "                    if match:\n",
    "                        date, review = match.groups()\n",
    "                        reviews.append({\n",
    "                            'city': city,\n",
    "                            'hotel_name': hotel_name,\n",
    "                            'date': pd.to_datetime(date),\n",
    "                            'review': review.strip()\n",
    "                        })\n",
    "\n",
    "\n",
    "    review_df = pd.DataFrame(reviews)\n",
    "    return review_df\n",
    "\n",
    "# Wordnet POS to lemmatize\n",
    "def get_wordnet_pos(word):\n",
    "    \"\"\"Map POS tag to first character lemmatize() accepts\"\"\"\n",
    "    tag = nltk.pos_tag([word])[0][1][0].upper()\n",
    "    tag_dict = {\"J\": nltk.corpus.wordnet.ADJ,\n",
    "                \"N\": nltk.corpus.wordnet.NOUN,\n",
    "                \"V\": nltk.corpus.wordnet.VERB,\n",
    "                \"R\": nltk.corpus.wordnet.ADV}\n",
    "\n",
    "    return tag_dict.get(tag, nltk.corpus.wordnet.NOUN)\n",
    "\n",
    "# Preprocessing\n",
    "def preprocess_reviews(review_df):\n",
    "    review_df['review'] = review_df['review'].str.lower()\n",
    "    review_df['review'] = review_df['review'].str.replace('[^\\w\\s]', '', regex=True)\n",
    "    review_df['tokens'] = review_df['review'].apply(word_tokenize)\n",
    "    stop_words = set(stopwords.words('english'))\n",
    "    review_df['tokens'] = review_df['tokens'].apply(lambda x: [word for word in x if word not in stop_words])\n",
    "    lemmatizer = WordNetLemmatizer()\n",
    "    review_df['tokens'] = review_df['tokens'].apply(\n",
    "        lambda x: [lemmatizer.lemmatize(word, get_wordnet_pos(word)) for word in x]\n",
    "    )\n",
    "    return review_df"
   ]
  },
  {
   "cell_type": "code",
   "execution_count": 6,
   "metadata": {},
   "outputs": [
    {
     "name": "stdout",
     "output_type": "stream",
     "text": [
      "      city                           hotel_name       date  \\\n",
      "0  beijing  china beijing aloft beijing haidian 2009-10-12   \n",
      "1  beijing  china beijing aloft beijing haidian 2009-09-25   \n",
      "2  beijing  china beijing aloft beijing haidian 2009-08-04   \n",
      "3  beijing  china beijing aloft beijing haidian 2009-07-17   \n",
      "4  beijing  china beijing aloft beijing haidian 2009-05-30   \n",
      "\n",
      "                                              review  \\\n",
      "0  nice trendy hotel location not too bad\\ti stay...   \n",
      "1  great budget hotel\\tstayed two nights at aloft...   \n",
      "2  excellent value  location not a big problem\\tw...   \n",
      "3  stylish clean reasonable value poor location\\t...   \n",
      "4  remote but excellent value for money\\tstayed t...   \n",
      "\n",
      "                                              tokens  \n",
      "0  [nice, trendy, hotel, location, bad, stayed, h...  \n",
      "1  [great, budget, hotel, stayed, two, night, alo...  \n",
      "2  [excellent, value, location, big, problem, sta...  \n",
      "3  [stylish, clean, reasonable, value, poor, loca...  \n",
      "4  [remote, excellent, value, money, stayed, one,...  \n"
     ]
    }
   ],
   "source": [
    "data_directory = './data2'\n",
    "review_df = read_and_parse_files(data_directory)\n",
    "review_df = preprocess_reviews(review_df)\n",
    "review_df.to_csv('csv3/processed_hotel_reviews.csv', index=False)\n",
    "print(review_df.head())"
   ]
  },
  {
   "cell_type": "code",
   "execution_count": 8,
   "metadata": {},
   "outputs": [
    {
     "name": "stdout",
     "output_type": "stream",
     "text": [
      "           city                            hotel_name        date  \\\n",
      "count     23089                                 23089       23089   \n",
      "unique        2                                   274        2417   \n",
      "top     chicago  usa illinois chicago affinia chicago  2009-10-08   \n",
      "freq      18098                                   410         162   \n",
      "\n",
      "             review              tokens  \n",
      "count         23089               23089  \n",
      "unique        22959               22913  \n",
      "top     great hotel  ['great', 'hotel']  \n",
      "freq             21                  23  \n"
     ]
    }
   ],
   "source": [
    "review_df = pd.read_csv('csv3/processed_hotel_reviews.csv')\n",
    "review_df = review_df[review_df['tokens'] != '[]']\n",
    "review_df = review_df[review_df['review'].str.strip().astype(bool)]\n",
    "print(review_df.describe())"
   ]
  },
  {
   "cell_type": "markdown",
   "metadata": {},
   "source": [
    "Data Analysis"
   ]
  },
  {
   "cell_type": "code",
   "execution_count": 9,
   "metadata": {},
   "outputs": [],
   "source": [
    "from nltk.sentiment import SentimentIntensityAnalyzer\n",
    "\n",
    "def analyze_sentiments(review_df):\n",
    "    sia = SentimentIntensityAnalyzer()\n",
    "    # Assuming 'review' contains the cleaned, lowercased text\n",
    "    review_df['sentiment'] = review_df['review'].apply(lambda x: sia.polarity_scores(x)['compound'])\n",
    "    return review_df\n",
    "\n",
    "# Perform sentiment analysis\n",
    "review_df = analyze_sentiments(review_df)\n",
    "review_df.to_csv('csv3/hotel_reviews_with_sentiments.csv', index=False)"
   ]
  },
  {
   "cell_type": "code",
   "execution_count": 3,
   "metadata": {},
   "outputs": [],
   "source": [
    "review_df = pd.read_csv('csv3/hotel_reviews_with_sentiments.csv')"
   ]
  },
  {
   "cell_type": "code",
   "execution_count": 4,
   "metadata": {},
   "outputs": [],
   "source": [
    "vectorizer = CountVectorizer(ngram_range=(1, 3), stop_words='english')\n",
    "ngram_matrix = vectorizer.fit_transform(review_df['review'])\n",
    "feature_names = vectorizer.get_feature_names_out()"
   ]
  },
  {
   "cell_type": "code",
   "execution_count": 5,
   "metadata": {},
   "outputs": [],
   "source": [
    "feature_ngrams = {\n",
    "    'cleanliness': {\n",
    "        'positive': ['clean', 'very clean', 'perfectly clean', 'well maintained', 'spotless', 'tidy', 'very tidy', 'smells good'],\n",
    "        'negative': ['not clean', 'dirty', 'very dirty', 'stain', 'poorly maintained', 'smells bad', 'stink', 'stunk']\n",
    "    },\n",
    "    'room': {\n",
    "        'positive': ['spacious room', 'large room', 'comfortable bed', 'beautiful room', 'comfortable', 'big suite', 'huge room'],\n",
    "        'negative': ['small room', 'tiny room', 'uncomfortable bed', 'outdated room', 'noisy room', 'uncomfortable']\n",
    "    },\n",
    "    'service': {\n",
    "        'positive': ['friendly', 'good staff', 'good service', 'excellent staff', 'excellent service', 'helpful staff', 'nice service', 'excellent service', 'good assistance'],\n",
    "        'negative': ['rude staff', 'rude', 'poor service', 'unhelpful', 'slow service']\n",
    "    },\n",
    "    'location': {\n",
    "        'positive': ['great location', 'perfect location', 'convenient location', 'ideal location', 'central location', 'good location'],\n",
    "        'negative': ['bad location', 'worst location', 'inconvenient location', 'unsafe area', 'unsafe', 'far away', 'far']\n",
    "    },\n",
    "    'value': {\n",
    "        'positive': ['good value', 'worth', 'price performance', 'great price', 'affordable', 'worth every penny', 'reasonable price', 'not expensive'],\n",
    "        'negative': ['overpriced', 'not worth the money', 'too expensive', 'poor value', 'rip off']\n",
    "    },\n",
    "    'safety': {\n",
    "        'positive': ['secure parking', 'high security', 'safe', 'secure', 'safe and sound'],\n",
    "        'negative': ['unsafe', 'dangerous', 'poor security', 'risky', 'not secure', 'not safe']\n",
    "    },\n",
    "    'comfort': {\n",
    "        'positive': ['very comfortable', 'comfortable', 'relaxing', 'peaceful', 'quiet', 'hot shower'],\n",
    "        'negative': ['uncomfortable', 'very uncomfortable', 'hard bed', 'uncomfortable chairs', 'noise', 'noisy', 'poor insulation']\n",
    "    },\n",
    "    'transportation': {\n",
    "        'positive': ['close to subway', 'shuttle', 'near the airport', 'good transport links', 'ample parking', 'close to transportation', 'close to bus', 'close to station', 'close to metro', 'close to airport', 'near the bus', 'near the station', 'near the metro', 'walking distance'],\n",
    "        'negative': ['far from subway', 'no shuttle', 'far from airport', 'poor transportatiton', 'limited parking', 'far away', 'far']\n",
    "    },\n",
    "    'noise': {\n",
    "        'positive': ['quiet room', 'soundproof', 'no noise', 'peaceful', 'quiet', 'silent'],\n",
    "        'negative': ['noisy room', 'loud neighbors', 'traffic noise', 'thin walls', 'can hear everything', 'high volume', 'noisy', 'noise']\n",
    "    }\n",
    "}\n"
   ]
  },
  {
   "cell_type": "code",
   "execution_count": 6,
   "metadata": {},
   "outputs": [],
   "source": [
    "def expand_keywords_with_wordnet(keywords):\n",
    "    expanded_keywords = set()\n",
    "    for keyword in keywords:\n",
    "        for synset in wn.synsets(keyword):\n",
    "            expanded_keywords.update(lemma.name().replace('_', ' ') for lemma in synset.lemmas())\n",
    "            expanded_keywords.update(lemma.name().replace('_', ' ') for hypernym in synset.hypernyms() for lemma in hypernym.lemmas())\n",
    "            expanded_keywords.update(lemma.name().replace('_', ' ') for hyponym in synset.hyponyms() for lemma in hyponym.lemmas())\n",
    "    return list(expanded_keywords)\n"
   ]
  },
  {
   "cell_type": "code",
   "execution_count": 7,
   "metadata": {},
   "outputs": [
    {
     "name": "stdout",
     "output_type": "stream",
     "text": [
      "{'cleanliness': {'positive': ['strip', 'goodly', 'plumb', 'spick-and-span', 'take', 'kempt', 'straighten out', 'alter', 'clean and jerk', 'uncontaminating', 'make clean', 'immaculate', 'order', 'groom', 'bathe', 'unobjectionable', 'healthy', 'sporting', 'spring-clean', 'straighten', 'clean', 'houseclean', 'hygienize', 'spic', 'lather', 'douche', 'tidy up', 'white', 'fresh', 'divest', 'do the dishes', 'sizeable', 'hygienise', 'wash', 'make up', 'weightlifting', 'neaten', 'bream', 'fair', 'sweep', 'light', 'neat', 'hefty', 'sizable', 'sanitise', 'change', 'plum', 'scavenge', 'wash up', 'spotless', 'clean house', 'withdraw', 'steam clean', 'weightlift', 'plume', 'clear', 'brush', 'spic-and-span', 'make', 'goodish', 'square away', 'receptacle', 'sanitize', 'floss', 'take away', 'disinfect', 'G.I.', 'dust', 'steam', 'remove', 'fairly', 'vacuum-clean', 'deprive', 'decontaminate', 'vacuum', 'sportsmanlike', 'bath', 'be', 'lave', 'pick', 'speckless', 'dry clean', 'uninfected', 'blank', 'sporty', 'soap', 'GI', 'cleanse', 'launder', 'unclouded', 'hoover', 'clean up', 'tidy', 'clean-living', 'spick', 'respectable', 'preen', 'modify', 'pipe-clay'], 'negative': ['niff', 'smirch', 'colour', 'muck up', 'alter', 'brand', 'spot', 'begrime', 'stink', 'methylene blue', 'unsportsmanlike', 'contaminate', 'bloodstain', 'iron mould', 'fault', 'coloring material', 'mistake', 'marked-up', 'ebonise', 'stigma', 'demerit', 'mud', 'colouring material', 'olfactory perception', 'olfactory sensation', 'blob', 'darken', 'ill-gotten', 'dirtiness', 'fleck', 'dingy', 'sordid', 'appearance', 'discoloration', 'crock', 'maculate', 'tattoo', 'pollute', 'crystal violet', 'reek', 'dirt', 'vein', 'grease', 'mud stain', 'smell', 'change', 'splash', 'malodor', 'pong', 'malodour', 'foul', 'stench', 'muddied', 'foetor', 'colly', 'bemire', 'muck', 'discolouration', 'muddy', 'visual aspect', 'uncleanness', 'counterstain', 'gentian violet', 'error', 'stain', 'sully', 'oil stain', 'unsporting', 'lousy', 'bar sinister', 'mephitis', 'color', 'odour', 'odor', 'grime', 'cloven hoof', 'unclean', 'blot', 'smear', 'iron mold', 'scorch', 'be', 'contaminating', 'mire', 'filthy', 'tarnish', 'filth', 'defile', 'blemish', 'methylthionine chloride', 'grunge', 'pestiferous', 'fetor', 'mark', 'symbol', 'muddy up', 'soil', 'marble', 'bend sinister', 'cloven foot', 'cheating', 'dye', 'dirty', 'soiled', 'modify', 'dip', 'smut', 'ebonize', 'slime']}, 'room': {'positive': ['easy', 'well-fixed', 'comfortable', 'well-situated', 'comfy', 'well-off', 'prosperous', 'well-heeled', 'well-to-do'], 'negative': ['uncomfortable']}, 'service': {'positive': ['well-disposed', 'military personnel', 'soldiery', 'friendly', 'favorable', 'troops'], 'negative': ['unhelpful', 'bad-mannered', 'rude', 'bounderish', 'yokelish', 'ill-bred', 'crude', 'underbred', 'ill-mannered', 'unmannerly', 'unmannered', 'raw', 'primitive', 'natural', 'lowbred', 'uncivil']}, 'location': {'positive': [], 'negative': ['Former Armed Forces', 'ALIR', 'dangerous', 'far', 'unsafe', 'FAR', 'Army for the Liberation of Rwanda', 'insecure', 'Interahamwe']}, 'value': {'positive': ['value', 'merit', 'halfpennyworth', 'Charles Frederick Worth', 'affordable', 'deserving', 'virtue', 'low-cost', 'Worth', 'low-priced', \"penn'orth\", 'quality', 'fault', 'worth', 'demerit', 'pennyworth', 'worthwhileness', \"ha'p'orth\", 'praisworthiness', 'price', 'indefinite quantity'], 'negative': ['overpriced', 'overprice', 'price']}, 'safety': {'positive': ['deedbox', 'good', 'stay', 'drop anchor', 'crank', 'stopper', 'ensure', 'chink', 'guarantee', 'wire', 'tack', 'certify', 'string', 'zip up', 'stop up', 'unassailable', 'joggle', 'stitch', 'noose', 'contraceptive', 'fasten', 'cement', 'bitt', 'hang up', 'secure', 'tie', 'batten', 'meat safe', 'strengthen', 'picket', 'strap', 'cramp', 'assure', 'lock', 'hasp', 'sew together', 'pin', 'buckle', 'brooch', 'lock up', 'girth', 'preventive', 'coapt', 'cleat', 'bight', 'belt', 'zipper', 'rubber', 'fill up', 'unafraid', 'obtain', 'suborn', 'rivet', 'birth control device', 'contraceptive device', 'beef up', 'chock', 'cable', 'chain', 'make', 'cork up', 'close', 'belay', 'spike', 'strongbox', 'rig', 'moor', 'doom', 'unattackable', 'copyright', 'impregnable', 'anchor', 'stake', 'batten down', 'toggle', 'deposit', 'sew', 'rope up', 'bind', 'insure', 'cast anchor', 'zip', 'garter', 'attach', 'hook', 'bar', 'enlist', 'button', 'strong', 'run up', 'fortify', 'condom', 'tie up', 'cork', 'safe', 'prophylactic', 'safety', 'untroubled', 'stopple', 'brad', 'closet', 'plug', 'latch', 'procure', 'inviolable', 'wedge', 'prophylactic device', 'preventative', 'staple', 'hang', 'engage', 'tampon', 'stick', 'vouch', 'lodge', 'bandage', 'joint', 'clinch', 'velcro', 'intrench', 'fix', 'grout', 'cupboard', 'patent', 'cinch', 'berth', 'entrench', 'ground', 'dependable', 'clamp', 'clasp'], 'negative': ['speculative', 'dangerous', 'risky', 'unsafe', 'severe', 'high-risk', 'insecure', 'serious', 'grave', 'hazardous', 'wild', 'bad', 'grievous', 'life-threatening']}, 'comfort': {'positive': ['conciliate', 'appease', 'relaxing', 'tranquilize', 'tranquility', 'alter', 'easy', 'affect', 'decrease', 'unstrain', 'pipe down', 'order', 'well-situated', 'change state', 'serenity', 'make relaxed', 'tranquillise', 'calm down', 'act', 'mollify', 'calm', 'quiesce', 'placid', 'tranquillize', 'pacify', 'assure', 'sit back', 'subdued', 'placidity', 'restrained', 'tranquil', 'solace', 'stillness', 'unwind', 'silence', 'change', 'tranquillity', 'composure', 'slack', 'weaken', 'change intensity', 'console', 'unruffled', 'well-to-do', 'repose', 'quieten', 'gentle', 'well-heeled', 'soothe', 'lenify', 'do', 'equanimity', 'reposeful', 'hush', 'comfortable', 'ataraxia', 'comfy', 'prosperous', 'gruntle', 'decompress', 'slacken', 'take it easy', 'loosen', 'soundlessness', 'restful', 'sound property', 'unlax', 'slack up', 'lessen', 'well-fixed', 'hushed', 'loose', 'smooth', 'turn', 'comfort', 'well-off', 'lull', 'unbend', 'loosen up', 'muted', 'unbrace', 'quiet', 'reassure', 'vege out', 'behave', 'compose', 'peaceful', 'passive', 'assuage', 'still', 'slow down', 'minify', 'relax', 'vegetate', 'quietly', 'quietness', 'peaceable', 'quiet down', 'placate', 'modify', 'calmness', 'speechlessness'], 'negative': ['grinding', 'katzenjammer', 'clangour', 'chatter', 'grate', 'sough', 'static', 'uncomfortable', 'snap', 'jingle-jangle', 'scranch', 'spatter', 'screak', 'report', 'sibilation', 'uproar', 'explosion', 'clack', 'slam', 'claxon', 'hubbub', 'clangoring', 'bang', 'cacophony', 'swoosh', 'sputtering', 'plonk', 'crosstalk', 'skreak', 'irregularity', 'racket', 'crackling', 'make noise', 'rattle', 'sizzle', 'purl', 'screaming', 'shrieking', 'squish', 'scraping', 'spattering', 'interference', 'vociferation', 'hissing', 'rhonchus', 'incomprehensibility', 'clank', 'din', 'crash', 'humming', 'clitter', 'clang', 'fadeout', 'clutter', 'hum', 'jingle', 'squawk', 'ding-dong', 'call', 'crack', 'scratching', 'splattering', 'grumble', 'splash', 'chattering', 'honk', 'plash', 'snore', 'banging', 'fizzle', 'boom', 'scratch', 'outcry', 'whine', 'crunch', 'ring out', 'rustling', 'atmospheric static', 'shout', 'yell', 'atmospherics', 'background signal', 'blare', 'stridulation', 'clamor', 'scrape', 'whoosh', 'grunt', 'rale', 'jitter', 'scraunch', 'sound', 'noise', 'creaking', 'rumble', 'plop', 'whispering', 'auditory sensation', 'eruption', 'dissonance', 'brouhaha', 'roaring', 'cracking', 'whisper', 'cry', 'rattling', 'resound', 'background', 'scream', 'clangor', 'stochasticity', 'pant', 'ergodicity', 'hiss', 'haphazardness', 'plump', 'screeching', 'drown out', 'backfire', 'blaring', 'creak', 'jangle', 'trouble', 'go', 'XT', 'screech', 'bark', 'rumbling', 'bam', 'shrilling', 'squeak', 'roar', 'grumbling', 'scrunch', 'stridulate', 'clatter', 'shriek', 'oink', 'thunder', 'chug', 'splatter', 'rustle', 'clash', 'noisy', 'crackle', 'randomness', 'sputter', 'disturbance', 'howl', 'splutter', 'blast', 'white noise', 'unregularity', 'brattle', 'clap', 'crepitation', 'hushing']}, 'transportation': {'positive': ['reel', 'birdie', 'shuttle', 'spool', 'go', 'travel', 'badminton equipment', 'shuttle bus', 'bobbin', 'bird', 'move', 'shuttlecock', 'public transport', 'locomote'], 'negative': ['Former Armed Forces', 'ALIR', 'far', 'FAR', 'Army for the Liberation of Rwanda', 'Interahamwe']}, 'noise': {'positive': ['soundless', 'muted', 'conciliate', 'appease', 'mum', 'quiet', 'dumb', 'quieten', 'reassure', 'tranquilize', 'gentle', 'tranquility', 'unsounded', 'soothe', 'lenify', 'equanimity', 'subdued', 'placidity', 'restrained', 'pipe down', 'order', 'hush', 'compose', 'ataraxia', 'tranquil', 'understood', 'insulate', 'peaceful', 'passive', 'solace', 'soundproof', 'stillness', 'still', 'serenity', 'tranquillise', 'assuage', 'silence', 'gruntle', 'calm down', 'mute', 'quietly', 'soundlessness', 'calm', 'quietness', 'mollify', 'assure', 'tranquillity', 'sound property', 'peaceable', 'composure', 'quiet down', 'quiesce', 'tacit', 'change intensity', 'console', 'hushed', 'placate', 'placid', 'smooth', 'calmness', 'tranquillize', 'pacify', 'comfort', 'unruffled', 'lull', 'speechlessness', 'silent', 'repose'], 'negative': ['grinding', 'katzenjammer', 'clangour', 'chatter', 'grate', 'sough', 'static', 'snap', 'jingle-jangle', 'scranch', 'spatter', 'screak', 'report', 'sibilation', 'uproar', 'explosion', 'clack', 'slam', 'claxon', 'hubbub', 'clangoring', 'bang', 'cacophony', 'swoosh', 'sputtering', 'plonk', 'crosstalk', 'skreak', 'irregularity', 'racket', 'crackling', 'make noise', 'rattle', 'sizzle', 'purl', 'screaming', 'shrieking', 'squish', 'scraping', 'spattering', 'interference', 'vociferation', 'hissing', 'rhonchus', 'incomprehensibility', 'clank', 'din', 'crash', 'humming', 'clitter', 'clang', 'fadeout', 'clutter', 'hum', 'jingle', 'squawk', 'ding-dong', 'call', 'crack', 'scratching', 'splattering', 'grumble', 'splash', 'chattering', 'honk', 'plash', 'snore', 'banging', 'fizzle', 'boom', 'scratch', 'outcry', 'whine', 'crunch', 'ring out', 'rustling', 'atmospheric static', 'shout', 'yell', 'atmospherics', 'background signal', 'blare', 'stridulation', 'clamor', 'scrape', 'whoosh', 'grunt', 'rale', 'jitter', 'scraunch', 'sound', 'noise', 'creaking', 'rumble', 'plop', 'whispering', 'auditory sensation', 'eruption', 'dissonance', 'brouhaha', 'roaring', 'cracking', 'whisper', 'cry', 'rattling', 'resound', 'background', 'scream', 'clangor', 'stochasticity', 'pant', 'ergodicity', 'hiss', 'haphazardness', 'plump', 'screeching', 'drown out', 'backfire', 'blaring', 'creak', 'jangle', 'trouble', 'go', 'XT', 'screech', 'bark', 'rumbling', 'bam', 'shrilling', 'squeak', 'roar', 'grumbling', 'scrunch', 'stridulate', 'clatter', 'shriek', 'oink', 'thunder', 'chug', 'splatter', 'rustle', 'clash', 'noisy', 'crackle', 'randomness', 'sputter', 'disturbance', 'howl', 'splutter', 'blast', 'white noise', 'unregularity', 'brattle', 'clap', 'crepitation', 'hushing']}}\n"
     ]
    }
   ],
   "source": [
    "for feature, sentiments in feature_ngrams.items():\n",
    "    for sentiment_type, keywords in sentiments.items():\n",
    "        expanded_keywords = expand_keywords_with_wordnet(keywords)\n",
    "        feature_ngrams[feature][sentiment_type] = expanded_keywords\n",
    "\n",
    "print(feature_ngrams)"
   ]
  },
  {
   "cell_type": "code",
   "execution_count": 8,
   "metadata": {},
   "outputs": [],
   "source": [
    "def calculate_feature_sentiments(review_df, feature_ngrams):\n",
    "    for feature in feature_ngrams:\n",
    "        review_df[f'{feature}_positive_score'] = 0 # default values\n",
    "        review_df[f'{feature}_negative_score'] = 0\n",
    "\n",
    "    # Calculate scores for each review\n",
    "    for index, row in review_df.iterrows():\n",
    "        text = row['review'].lower()\n",
    "        for feature, sentiments in feature_ngrams.items():\n",
    "            positive_score = sum(text.count(ngram) for ngram in sentiments['positive'])\n",
    "            negative_score = sum(text.count(ngram) for ngram in sentiments['negative'])\n",
    "            review_df.at[index, f'{feature}_positive_score'] += positive_score\n",
    "            review_df.at[index, f'{feature}_negative_score'] += negative_score\n",
    "\n",
    "    return review_df"
   ]
  },
  {
   "cell_type": "code",
   "execution_count": 10,
   "metadata": {},
   "outputs": [
    {
     "name": "stdout",
     "output_type": "stream",
     "text": [
      "      city                           hotel_name        date  \\\n",
      "0  beijing  china beijing aloft beijing haidian  2009-10-12   \n",
      "1  beijing  china beijing aloft beijing haidian  2009-09-25   \n",
      "2  beijing  china beijing aloft beijing haidian  2009-08-04   \n",
      "3  beijing  china beijing aloft beijing haidian  2009-07-17   \n",
      "4  beijing  china beijing aloft beijing haidian  2009-05-30   \n",
      "\n",
      "                                              review  \\\n",
      "0  nice trendy hotel location not too bad\\ti stay...   \n",
      "1  great budget hotel\\tstayed two nights at aloft...   \n",
      "2  excellent value  location not a big problem\\tw...   \n",
      "3  stylish clean reasonable value poor location\\t...   \n",
      "4  remote but excellent value for money\\tstayed t...   \n",
      "\n",
      "                                              tokens  sentiment  \\\n",
      "0  ['nice', 'trendy', 'hotel', 'location', 'bad',...     0.9835   \n",
      "1  ['great', 'budget', 'hotel', 'stayed', 'two', ...     0.9777   \n",
      "2  ['excellent', 'value', 'location', 'big', 'pro...     0.9956   \n",
      "3  ['stylish', 'clean', 'reasonable', 'value', 'p...     0.8695   \n",
      "4  ['remote', 'excellent', 'value', 'money', 'sta...     0.9831   \n",
      "\n",
      "   cleanliness_positive_score  cleanliness_negative_score  \\\n",
      "0                           8                           4   \n",
      "1                          10                           9   \n",
      "2                           9                           7   \n",
      "3                          12                           8   \n",
      "4                           1                           0   \n",
      "\n",
      "   room_positive_score  room_negative_score  ...  value_positive_score  \\\n",
      "0                    0                    0  ...                     0   \n",
      "1                    1                    0  ...                     0   \n",
      "2                    1                    0  ...                     4   \n",
      "3                    0                    0  ...                     5   \n",
      "4                    0                    0  ...                     3   \n",
      "\n",
      "   value_negative_score  safety_positive_score  safety_negative_score  \\\n",
      "0                     0                      7                      1   \n",
      "1                     0                      5                      0   \n",
      "2                     2                      6                      0   \n",
      "3                     2                      7                      0   \n",
      "4                     1                      3                      0   \n",
      "\n",
      "   comfort_positive_score  comfort_negative_score  \\\n",
      "0                       3                       3   \n",
      "1                       4                       7   \n",
      "2                       3                       5   \n",
      "3                      10                       3   \n",
      "4                       3                       0   \n",
      "\n",
      "   transportation_positive_score  transportation_negative_score  \\\n",
      "0                              3                              0   \n",
      "1                              4                              2   \n",
      "2                              3                              1   \n",
      "3                              2                              0   \n",
      "4                              1                              0   \n",
      "\n",
      "   noise_positive_score  noise_negative_score  \n",
      "0                     0                     3  \n",
      "1                     1                     7  \n",
      "2                     2                     5  \n",
      "3                     0                     3  \n",
      "4                     1                     0  \n",
      "\n",
      "[5 rows x 24 columns]\n"
     ]
    }
   ],
   "source": [
    "review_df = calculate_feature_sentiments(review_df, feature_ngrams)\n",
    "print(review_df.head())\n",
    "\n",
    "review_df.to_csv('csv3/hotel_reviews_with_feature_sentiments.csv', index=False)\n"
   ]
  },
  {
   "cell_type": "code",
   "execution_count": 11,
   "metadata": {},
   "outputs": [],
   "source": [
    "reivew_df = pd.read_csv('csv3/hotel_reviews_with_feature_sentiments.csv')"
   ]
  },
  {
   "cell_type": "code",
   "execution_count": 12,
   "metadata": {},
   "outputs": [],
   "source": [
    "# Ensure these columns exist before proceeding to use them\n",
    "if set([f\"{feature}_positive_score\" for feature in feature_ngrams.keys()]).issubset(review_df.columns):\n",
    "    X = review_df[[f\"{feature}_positive_score\" for feature in feature_ngrams.keys()]]\n",
    "    # Proceed with further analysis\n",
    "else:\n",
    "    print(\"Some expected columns are missing from the DataFrame.\")"
   ]
  },
  {
   "cell_type": "code",
   "execution_count": 13,
   "metadata": {},
   "outputs": [
    {
     "name": "stdout",
     "output_type": "stream",
     "text": [
      "Column 'overall_sentiment' also not found. Check data processing steps.\n"
     ]
    }
   ],
   "source": [
    "if 'overall_sentiment' in review_df.columns:\n",
    "    review_df['satisfaction'] = (review_df['overall_sentiment'] > 0.5).astype(int)  # This is just an example\n",
    "else:\n",
    "    print(\"Column 'overall_sentiment' also not found. Check data processing steps.\")\n"
   ]
  },
  {
   "cell_type": "code",
   "execution_count": 14,
   "metadata": {},
   "outputs": [
    {
     "name": "stdout",
     "output_type": "stream",
     "text": [
      "      city                           hotel_name        date  \\\n",
      "0  beijing  china beijing aloft beijing haidian  2009-10-12   \n",
      "1  beijing  china beijing aloft beijing haidian  2009-09-25   \n",
      "2  beijing  china beijing aloft beijing haidian  2009-08-04   \n",
      "3  beijing  china beijing aloft beijing haidian  2009-07-17   \n",
      "4  beijing  china beijing aloft beijing haidian  2009-05-30   \n",
      "\n",
      "                                              review  \\\n",
      "0  nice trendy hotel location not too bad\\ti stay...   \n",
      "1  great budget hotel\\tstayed two nights at aloft...   \n",
      "2  excellent value  location not a big problem\\tw...   \n",
      "3  stylish clean reasonable value poor location\\t...   \n",
      "4  remote but excellent value for money\\tstayed t...   \n",
      "\n",
      "                                              tokens  sentiment  \\\n",
      "0  ['nice', 'trendy', 'hotel', 'location', 'bad',...     0.9835   \n",
      "1  ['great', 'budget', 'hotel', 'stayed', 'two', ...     0.9777   \n",
      "2  ['excellent', 'value', 'location', 'big', 'pro...     0.9956   \n",
      "3  ['stylish', 'clean', 'reasonable', 'value', 'p...     0.8695   \n",
      "4  ['remote', 'excellent', 'value', 'money', 'sta...     0.9831   \n",
      "\n",
      "   cleanliness_positive_score  cleanliness_negative_score  \\\n",
      "0                           8                           4   \n",
      "1                          10                           9   \n",
      "2                           9                           7   \n",
      "3                          12                           8   \n",
      "4                           1                           0   \n",
      "\n",
      "   room_positive_score  room_negative_score  ...  safety_positive_score  \\\n",
      "0                    0                    0  ...                      7   \n",
      "1                    1                    0  ...                      5   \n",
      "2                    1                    0  ...                      6   \n",
      "3                    0                    0  ...                      7   \n",
      "4                    0                    0  ...                      3   \n",
      "\n",
      "   safety_negative_score  comfort_positive_score  comfort_negative_score  \\\n",
      "0                      1                       3                       3   \n",
      "1                      0                       4                       7   \n",
      "2                      0                       3                       5   \n",
      "3                      0                      10                       3   \n",
      "4                      0                       3                       0   \n",
      "\n",
      "   transportation_positive_score  transportation_negative_score  \\\n",
      "0                              3                              0   \n",
      "1                              4                              2   \n",
      "2                              3                              1   \n",
      "3                              2                              0   \n",
      "4                              1                              0   \n",
      "\n",
      "   noise_positive_score  noise_negative_score  overall_sentiment  satisfaction  \n",
      "0                     0                     3                 10             1  \n",
      "1                     1                     7                 -2             0  \n",
      "2                     2                     5                  8             1  \n",
      "3                     0                     3                 20             1  \n",
      "4                     1                     0                 11             1  \n",
      "\n",
      "[5 rows x 26 columns]\n"
     ]
    }
   ],
   "source": [
    "# Check if required columns are present\n",
    "required_columns = [f'{feature}_positive_score' for feature in feature_ngrams.keys()] + \\\n",
    "                   [f'{feature}_negative_score' for feature in feature_ngrams.keys()]\n",
    "\n",
    "if not set(required_columns).issubset(set(review_df.columns)):\n",
    "    print(\"Required sentiment score columns are missing from DataFrame. Check previous calculations.\")\n",
    "else:\n",
    "    # Calculate 'overall_sentiment' as the sum of all positive scores minus all negative scores\n",
    "    review_df['overall_sentiment'] = review_df[[col for col in review_df.columns if 'positive_score' in col]].sum(axis=1) - \\\n",
    "                                     review_df[[col for col in review_df.columns if 'negative_score' in col]].sum(axis=1)\n",
    "    \n",
    "    # Now, create the 'satisfaction' column based on 'overall_sentiment'\n",
    "    review_df['satisfaction'] = (review_df['overall_sentiment'] > 0).astype(int)\n",
    "    print(review_df.head())  # Verify the new columns are added\n"
   ]
  },
  {
   "cell_type": "code",
   "execution_count": 15,
   "metadata": {},
   "outputs": [],
   "source": [
    "# Assert to ensure the column exists after creation\n",
    "assert 'overall_sentiment' in review_df.columns, \"overall_sentiment column was not created.\""
   ]
  },
  {
   "cell_type": "code",
   "execution_count": 16,
   "metadata": {},
   "outputs": [
    {
     "name": "stdout",
     "output_type": "stream",
     "text": [
      "      city                           hotel_name        date  \\\n",
      "0  beijing  china beijing aloft beijing haidian  2009-10-12   \n",
      "1  beijing  china beijing aloft beijing haidian  2009-09-25   \n",
      "2  beijing  china beijing aloft beijing haidian  2009-08-04   \n",
      "3  beijing  china beijing aloft beijing haidian  2009-07-17   \n",
      "4  beijing  china beijing aloft beijing haidian  2009-05-30   \n",
      "\n",
      "                                              review  \\\n",
      "0  nice trendy hotel location not too bad\\ti stay...   \n",
      "1  great budget hotel\\tstayed two nights at aloft...   \n",
      "2  excellent value  location not a big problem\\tw...   \n",
      "3  stylish clean reasonable value poor location\\t...   \n",
      "4  remote but excellent value for money\\tstayed t...   \n",
      "\n",
      "                                              tokens  sentiment  \\\n",
      "0  ['nice', 'trendy', 'hotel', 'location', 'bad',...     0.9835   \n",
      "1  ['great', 'budget', 'hotel', 'stayed', 'two', ...     0.9777   \n",
      "2  ['excellent', 'value', 'location', 'big', 'pro...     0.9956   \n",
      "3  ['stylish', 'clean', 'reasonable', 'value', 'p...     0.8695   \n",
      "4  ['remote', 'excellent', 'value', 'money', 'sta...     0.9831   \n",
      "\n",
      "   cleanliness_positive_score  cleanliness_negative_score  \\\n",
      "0                           8                           4   \n",
      "1                          10                           9   \n",
      "2                           9                           7   \n",
      "3                          12                           8   \n",
      "4                           1                           0   \n",
      "\n",
      "   room_positive_score  room_negative_score  ...  safety_positive_score  \\\n",
      "0                    0                    0  ...                      7   \n",
      "1                    1                    0  ...                      5   \n",
      "2                    1                    0  ...                      6   \n",
      "3                    0                    0  ...                      7   \n",
      "4                    0                    0  ...                      3   \n",
      "\n",
      "   safety_negative_score  comfort_positive_score  comfort_negative_score  \\\n",
      "0                      1                       3                       3   \n",
      "1                      0                       4                       7   \n",
      "2                      0                       3                       5   \n",
      "3                      0                      10                       3   \n",
      "4                      0                       3                       0   \n",
      "\n",
      "   transportation_positive_score  transportation_negative_score  \\\n",
      "0                              3                              0   \n",
      "1                              4                              2   \n",
      "2                              3                              1   \n",
      "3                              2                              0   \n",
      "4                              1                              0   \n",
      "\n",
      "   noise_positive_score  noise_negative_score  overall_sentiment  satisfaction  \n",
      "0                     0                     3                 10             1  \n",
      "1                     1                     7                 -2             0  \n",
      "2                     2                     5                  8             1  \n",
      "3                     0                     3                 20             1  \n",
      "4                     1                     0                 11             1  \n",
      "\n",
      "[5 rows x 26 columns]\n"
     ]
    }
   ],
   "source": [
    "# Assuming you have added the 'satisfaction' column with some logic\n",
    "review_df['satisfaction'] = (review_df['overall_sentiment'] > 0).astype(int)\n",
    "\n",
    "# Immediately check if the column has been added\n",
    "print(review_df.head())  # This should show the 'satisfaction' column\n"
   ]
  },
  {
   "cell_type": "code",
   "execution_count": 17,
   "metadata": {},
   "outputs": [
    {
     "name": "stdout",
     "output_type": "stream",
     "text": [
      "              precision    recall  f1-score   support\n",
      "\n",
      "           0       0.71      0.51      0.60       840\n",
      "           1       0.90      0.95      0.93      3778\n",
      "\n",
      "    accuracy                           0.87      4618\n",
      "   macro avg       0.80      0.73      0.76      4618\n",
      "weighted avg       0.86      0.87      0.87      4618\n",
      "\n"
     ]
    }
   ],
   "source": [
    "from sklearn.model_selection import train_test_split\n",
    "from sklearn.ensemble import RandomForestClassifier\n",
    "from sklearn.metrics import classification_report\n",
    "\n",
    "# Assuming 'satisfaction' is now correctly added\n",
    "y = review_df['satisfaction']  # Target variable\n",
    "\n",
    "# Proceed with your machine learning setup or analysis\n",
    "X_train, X_test, y_train, y_test = train_test_split(X, y, test_size=0.2, random_state=42)\n",
    "\n",
    "# Example model training and evaluation, assuming you have the rest of your ML setup correct\n",
    "model = RandomForestClassifier()\n",
    "model.fit(X_train, y_train)\n",
    "y_pred = model.predict(X_test)\n",
    "\n",
    "print(classification_report(y_test, y_pred))\n"
   ]
  },
  {
   "cell_type": "code",
   "execution_count": 18,
   "metadata": {},
   "outputs": [
    {
     "name": "stdout",
     "output_type": "stream",
     "text": [
      "                                    hotel_name  cleanliness_positive_score  \\\n",
      "0          china beijing aloft beijing haidian                    7.000000   \n",
      "1                 china beijing ascott beijing                    9.571429   \n",
      "2  china beijing autumn garden courtyard hotel                    5.166667   \n",
      "3            china beijing bamboo garden hotel                    5.245283   \n",
      "4         china beijing beijing century towers                    8.000000   \n",
      "\n",
      "   cleanliness_negative_score  room_positive_score  room_negative_score  \\\n",
      "0                    5.000000             0.333333                  0.0   \n",
      "1                    6.857143             0.392857                  0.0   \n",
      "2                    2.500000             0.333333                  0.0   \n",
      "3                    3.924528             0.433962                  0.0   \n",
      "4                    6.000000             0.000000                  0.0   \n",
      "\n",
      "   service_positive_score  service_negative_score  location_positive_score  \\\n",
      "0                0.333333                0.000000                      0.0   \n",
      "1                0.107143                0.035714                      0.0   \n",
      "2                0.666667                0.000000                      0.0   \n",
      "3                0.207547                0.056604                      0.0   \n",
      "4                0.000000                0.000000                      0.0   \n",
      "\n",
      "   location_negative_score  value_positive_score  value_negative_score  \\\n",
      "0                 0.666667              2.333333              0.833333   \n",
      "1                 0.214286              0.785714              0.178571   \n",
      "2                 0.000000              0.166667              0.166667   \n",
      "3                 0.056604              0.301887              0.150943   \n",
      "4                 0.000000              1.500000              1.500000   \n",
      "\n",
      "   safety_positive_score  safety_negative_score  comfort_positive_score  \\\n",
      "0               5.000000               0.166667                4.333333   \n",
      "1               5.214286               0.107143                3.607143   \n",
      "2               4.166667               0.000000                3.500000   \n",
      "3               3.547170               0.056604                3.113208   \n",
      "4               5.500000               0.000000                1.000000   \n",
      "\n",
      "   comfort_negative_score  transportation_positive_score  \\\n",
      "0                3.333333                       2.500000   \n",
      "1                3.250000                       2.214286   \n",
      "2                2.666667                       2.000000   \n",
      "3                2.377358                       1.396226   \n",
      "4                2.500000                       2.000000   \n",
      "\n",
      "   transportation_negative_score  noise_positive_score  noise_negative_score  \n",
      "0                       0.666667              0.666667              3.333333  \n",
      "1                       0.214286              0.535714              3.250000  \n",
      "2                       0.000000              1.000000              2.666667  \n",
      "3                       0.056604              0.830189              2.377358  \n",
      "4                       0.000000              0.000000              2.500000  \n"
     ]
    }
   ],
   "source": [
    "# Aggregating average scores for each feature by hotel\n",
    "hotel_feature_scores = review_df.groupby('hotel_name').agg({\n",
    "    'cleanliness_positive_score': 'mean',\n",
    "    'cleanliness_negative_score': 'mean',\n",
    "    'room_positive_score': 'mean',\n",
    "    'room_negative_score': 'mean',\n",
    "    'service_positive_score': 'mean',\n",
    "    'service_negative_score': 'mean',\n",
    "    'location_positive_score': 'mean',\n",
    "    'location_negative_score': 'mean',\n",
    "    'value_positive_score': 'mean',\n",
    "    'value_negative_score': 'mean',\n",
    "    'safety_positive_score': 'mean',\n",
    "    'safety_negative_score': 'mean',\n",
    "    'comfort_positive_score': 'mean',\n",
    "    'comfort_negative_score': 'mean',\n",
    "    'transportation_positive_score': 'mean',\n",
    "    'transportation_negative_score': 'mean',\n",
    "    'noise_positive_score': 'mean',\n",
    "    'noise_negative_score': 'mean'\n",
    "}).reset_index()\n",
    "\n",
    "print(hotel_feature_scores.head())"
   ]
  },
  {
   "cell_type": "code",
   "execution_count": 19,
   "metadata": {},
   "outputs": [
    {
     "name": "stdout",
     "output_type": "stream",
     "text": [
      "Empty DataFrame\n",
      "Columns: [hotel_name, cleanliness_positive_score, cleanliness_negative_score, room_positive_score, room_negative_score, service_positive_score, service_negative_score, location_positive_score, location_negative_score, value_positive_score, value_negative_score, safety_positive_score, safety_negative_score, comfort_positive_score, comfort_negative_score, transportation_positive_score, transportation_negative_score, noise_positive_score, noise_negative_score]\n",
      "Index: []\n",
      "                                              hotel_name  \\\n",
      "1665             china beijing hilton beijing wangfujing   \n",
      "18099  usa illinois chicago sheraton chicago hotel an...   \n",
      "18090  usa illinois chicago sheraton chicago hotel an...   \n",
      "18866             usa illinois chicago swissotel chicago   \n",
      "22723         usa illinois chicago w chicago city center   \n",
      "...                                                  ...   \n",
      "3746                 china beijing raffles beijing hotel   \n",
      "3745                 china beijing raffles beijing hotel   \n",
      "9423   usa illinois chicago embassy suites hotel chic...   \n",
      "3730                 china beijing raffles beijing hotel   \n",
      "23088           usa illinois chicago w chicago lakeshore   \n",
      "\n",
      "       cleanliness_positive_score  \n",
      "1665                          124  \n",
      "18099                          70  \n",
      "18090                          65  \n",
      "18866                          64  \n",
      "22723                          58  \n",
      "...                           ...  \n",
      "3746                            0  \n",
      "3745                            0  \n",
      "9423                            0  \n",
      "3730                            0  \n",
      "23088                           0  \n",
      "\n",
      "[23089 rows x 2 columns]\n"
     ]
    }
   ],
   "source": [
    "# Example: Detailed scores for a specific hotel\n",
    "specific_hotel_scores = hotel_feature_scores[hotel_feature_scores['hotel_name'] == 'Hotel Name Here']\n",
    "print(specific_hotel_scores)\n",
    "\n",
    "# Or for a specific feature across all hotels\n",
    "specific_feature_scores = review_df[['hotel_name', 'cleanliness_positive_score']]\n",
    "print(specific_feature_scores.sort_values(by='cleanliness_positive_score', ascending=False))"
   ]
  },
  {
   "cell_type": "code",
   "execution_count": 25,
   "metadata": {},
   "outputs": [],
   "source": [
    "hotel_feature_scores.to_csv('csv3/hotel_feature_scores.csv', index=False)\n",
    "hotel_feature_scores.to_excel('csv3/hotel_feature_scores.xlsx', engine='openpyxl', index=False)"
   ]
  }
 ],
 "metadata": {
  "kernelspec": {
   "display_name": "Python 3",
   "language": "python",
   "name": "python3"
  },
  "language_info": {
   "codemirror_mode": {
    "name": "ipython",
    "version": 3
   },
   "file_extension": ".py",
   "mimetype": "text/x-python",
   "name": "python",
   "nbconvert_exporter": "python",
   "pygments_lexer": "ipython3",
   "version": "3.10.11"
  }
 },
 "nbformat": 4,
 "nbformat_minor": 2
}
