{
 "cells": [
  {
   "cell_type": "code",
   "execution_count": 4,
   "metadata": {},
   "outputs": [
    {
     "name": "stderr",
     "output_type": "stream",
     "text": [
      "c:\\Users\\durud\\AppData\\Local\\Programs\\Python\\Python312\\Lib\\site-packages\\tqdm\\auto.py:21: TqdmWarning: IProgress not found. Please update jupyter and ipywidgets. See https://ipywidgets.readthedocs.io/en/stable/user_install.html\n",
      "  from .autonotebook import tqdm as notebook_tqdm\n"
     ]
    }
   ],
   "source": [
    "import os\n",
    "import re\n",
    "import pandas as pd\n",
    "import torch.nn.functional as F\n",
    "from transformers import AutoTokenizer, AutoModelForSequenceClassification, pipeline\n",
    "import logging\n",
    "from tqdm import tqdm\n",
    "import torch"
   ]
  },
  {
   "cell_type": "code",
   "execution_count": 2,
   "metadata": {},
   "outputs": [
    {
     "name": "stdout",
     "output_type": "stream",
     "text": [
      "                          hotel_name hotel_city  review_date  \\\n",
      "0  usa_illinois_chicago_abbott_hotel    chicago  Sep 21 2009   \n",
      "1  usa_illinois_chicago_abbott_hotel    chicago  Jul 26 2009   \n",
      "2  usa_illinois_chicago_abbott_hotel    chicago   Nov 8 2007   \n",
      "3  usa_illinois_chicago_abbott_hotel    chicago   Nov 8 2007   \n",
      "4  usa_illinois_chicago_abbott_hotel    chicago   May 3 2007   \n",
      "\n",
      "                                        hotel_review  \n",
      "0  Not only are the rooms jacked up but the Manag...  \n",
      "1  If you want to stay in a bizarre and skanky ve...  \n",
      "2  I have stayed in a decent amount of cheap hote...  \n",
      "3  I travel the nation almost every weekend of th...  \n",
      "4  I just called a few minutes ago to find out th...  \n"
     ]
    }
   ],
   "source": [
    "def parse_hotel_reviews(data_dir):\n",
    "    logging.basicConfig(level=logging.INFO, format='%(asctime)s - %(levelname)s - %(message)s')\n",
    "    # Updated regex pattern to handle flexible spacing and separators\n",
    "    date_pattern = re.compile(r'(\\b(Jan|Feb|Mar|Apr|May|Jun|Jul|Aug|Sep|Oct|Nov|Dec)\\s\\d{1,2}\\s\\d{4})\\s+([^\\t\\n]*)\\s+(.*)')\n",
    "    data_frames = []\n",
    "\n",
    "    for root, dirs, files in os.walk(data_dir):\n",
    "        city = os.path.basename(root)\n",
    "        for file in files:\n",
    "            file_path = os.path.join(root, file)\n",
    "            hotel_name = os.path.splitext(file)[0]  # Assuming the file has no extension\n",
    "            try:\n",
    "                with open(file_path, 'r', encoding='ISO-8859-1') as f:\n",
    "                    content = f.read()\n",
    "\n",
    "                if not content:\n",
    "                    logging.warning(f'File {file_path} is empty.')\n",
    "                    continue\n",
    "\n",
    "                reviews = date_pattern.findall(content)\n",
    "                if not reviews:\n",
    "                    logging.warning(f'No reviews found in file {file_path}. Content: {content[:500]}')\n",
    "                    continue\n",
    "\n",
    "                reviews_data = [{'hotel_name': hotel_name, 'hotel_city': city, 'review_date': date, 'hotel_review': review.strip()} for date, _, title, review in reviews]\n",
    "                if reviews_data:\n",
    "                    data_frames.append(pd.DataFrame(reviews_data))\n",
    "\n",
    "            except Exception as e:\n",
    "                logging.error(f'Error processing file {file_path}: {e}')\n",
    "                continue\n",
    "\n",
    "    if data_frames:\n",
    "        review_df = pd.concat(data_frames, ignore_index=True)\n",
    "    else:\n",
    "        review_df = pd.DataFrame(columns=['hotel_name', 'hotel_city', 'review_date', 'hotel_review'])\n",
    "\n",
    "    return review_df\n",
    "\n",
    "dataset = 'chicago'\n",
    "data_dir = 'data'\n",
    "review_df = parse_hotel_reviews(data_dir)\n",
    "print(review_df.head())\n",
    "review_df.to_csv(f'csv/{dataset}_derlenmis_reviews.csv', index=False)"
   ]
  },
  {
   "cell_type": "code",
   "execution_count": 3,
   "metadata": {},
   "outputs": [],
   "source": [
    "review_df = pd.read_csv(f'csv/{dataset}_derlenmis_reviews.csv')\n",
    "review_df = review_df.dropna(subset=['hotel_review'])\n",
    "review_df['processed_review'] = review_df['hotel_review'].str.lower().str.replace('\\t', ' ', regex=False)\n",
    "review_df = review_df.drop('hotel_review', axis=1)\n",
    "review_df = review_df.drop('review_date', axis=1)\n",
    "review_df.to_csv(f'csv/{dataset}_processed_reviews.csv', index=False)"
   ]
  },
  {
   "cell_type": "code",
   "execution_count": 4,
   "metadata": {},
   "outputs": [
    {
     "name": "stderr",
     "output_type": "stream",
     "text": [
      "c:\\Users\\durud\\AppData\\Local\\Programs\\Python\\Python312\\Lib\\site-packages\\huggingface_hub\\file_download.py:1132: FutureWarning: `resume_download` is deprecated and will be removed in version 1.0.0. Downloads always resume when possible. If you want to force a new download, use `force_download=True`.\n",
      "  warnings.warn(\n"
     ]
    }
   ],
   "source": [
    "roberta_tokenizer = AutoTokenizer.from_pretrained(\"cardiffnlp/twitter-roberta-base-sentiment\")\n",
    "roberta_model = AutoModelForSequenceClassification.from_pretrained(\"cardiffnlp/twitter-roberta-base-sentiment\")\n",
    "roberta_pipeline = pipeline(\"sentiment-analysis\", model=roberta_model, tokenizer=roberta_tokenizer)"
   ]
  },
  {
   "cell_type": "code",
   "execution_count": 5,
   "metadata": {},
   "outputs": [],
   "source": [
    "aspects = ['cleanliness', 'room', 'service', 'location', 'value', 'safety', 'comfort', 'transportation', 'noise']\n",
    "weights = {'LABEL_0': -1, 'LABEL_1': 0, 'LABEL_2': 1}\n",
    "batch_size = 16\n",
    "\n",
    "aspect_keywords = {\n",
    "    'cleanliness': ['clean', 'dirty', 'smell', 'stink', 'stunk', 'filthy'],\n",
    "    'room': ['room', 'bed', 'suite', 'large'],\n",
    "    'service': ['service', 'staff', 'help', 'support'],\n",
    "    'location': ['location', 'close', 'area', 'far'],\n",
    "    'value': ['value', 'worth', 'price', 'cheap'],\n",
    "    'safety': ['safe', 'safety', 'secure', 'danger', 'dangerous'],\n",
    "    'comfort': ['comfort', 'comfortable', 'uncomfortable'],\n",
    "    'transportation': ['bus', 'metro', 'station', 'close', 'walk'],\n",
    "    'noise': ['sound', 'volume', 'noisy', 'noise']\n",
    "}"
   ]
  },
  {
   "cell_type": "code",
   "execution_count": 6,
   "metadata": {},
   "outputs": [],
   "source": [
    "def is_aspect_mentioned(review, aspect):\n",
    "    keywords = aspect_keywords[aspect]\n",
    "    return any(keyword in review for keyword in keywords)\n",
    "\n",
    "for aspect in aspects:\n",
    "    review_df[f'{aspect}_score'] = 0\n",
    "\n",
    "review_df = pd.read_csv(f'csv/{dataset}_processed_reviews.csv')"
   ]
  },
  {
   "cell_type": "code",
   "execution_count": 7,
   "metadata": {},
   "outputs": [],
   "source": [
    "def process_reviews(pipeline, weights):\n",
    "    for aspect in aspects:\n",
    "        review_df[f'{aspect}_score'] = 0\n",
    "\n",
    "    for aspect in aspects:\n",
    "        print(f\"Starting processing for aspect: {aspect}\")\n",
    "        for i in tqdm(range(0, len(review_df), batch_size), desc=f\"Batches for {aspect}\"):\n",
    "            batch_reviews = review_df['processed_review'][i:i + batch_size]\n",
    "            batch_index = batch_reviews.index\n",
    "            aspect_mentioned = [is_aspect_mentioned(review, aspect) for review in batch_reviews]\n",
    "            if any(aspect_mentioned):\n",
    "                filtered_reviews = [review for review, mentioned in zip(batch_reviews, aspect_mentioned) if mentioned]\n",
    "                aspect_reviews = [f\"{aspect}: {review[:512 - len(aspect) - 2]}\" for review in filtered_reviews]\n",
    "                results = pipeline(aspect_reviews)\n",
    "                scores = [weights[result['label']] * result['score'] for result in results]\n",
    "                score_index = [index for index, mentioned in zip(batch_index, aspect_mentioned) if mentioned]\n",
    "                review_df.loc[score_index, f'{aspect}_score'] = scores\n",
    "            else:\n",
    "                review_df.loc[batch_index, f'{aspect}_score'] = 0\n",
    "    for aspect in aspects:\n",
    "        review_df[f'{aspect}_score'] = pd.to_numeric(review_df[f'{aspect}_score'], errors='coerce')\n",
    "\n",
    "    return review_df"
   ]
  },
  {
   "cell_type": "code",
   "execution_count": 8,
   "metadata": {},
   "outputs": [
    {
     "name": "stdout",
     "output_type": "stream",
     "text": [
      "Starting processing for aspect: cleanliness\n"
     ]
    },
    {
     "name": "stderr",
     "output_type": "stream",
     "text": [
      "Batches for cleanliness:   0%|          | 0/1101 [00:00<?, ?it/s]C:\\Users\\durud\\AppData\\Local\\Temp\\ipykernel_4156\\4186918797.py:17: FutureWarning: Setting an item of incompatible dtype is deprecated and will raise an error in a future version of pandas. Value '[0.0, -0.837227463722229, 0.0, 0.9771205186843872, 0.8913875222206116, 0.9734905362129211, 0.5153013467788696, 0.0, 0.9474543333053589]' has dtype incompatible with int64, please explicitly cast to a compatible dtype first.\n",
      "  review_df.loc[score_index, f'{aspect}_score'] = scores\n",
      "Batches for cleanliness: 100%|██████████| 1101/1101 [18:52<00:00,  1.03s/it]\n"
     ]
    },
    {
     "name": "stdout",
     "output_type": "stream",
     "text": [
      "Starting processing for aspect: room\n"
     ]
    },
    {
     "name": "stderr",
     "output_type": "stream",
     "text": [
      "Batches for room:   0%|          | 0/1101 [00:00<?, ?it/s]C:\\Users\\durud\\AppData\\Local\\Temp\\ipykernel_4156\\4186918797.py:17: FutureWarning: Setting an item of incompatible dtype is deprecated and will raise an error in a future version of pandas. Value '[-0.9107760190963745, 0.0, -0.8655387163162231, 0.7844785451889038, 0.9895345568656921, 0.0, 0.8982135653495789, 0.9781167507171631, 0.8916758298873901, 0.9767194986343384, 0.4779955744743347, 0.0, 0.0, 0.9468656182289124]' has dtype incompatible with int64, please explicitly cast to a compatible dtype first.\n",
      "  review_df.loc[score_index, f'{aspect}_score'] = scores\n",
      "Batches for room: 100%|██████████| 1101/1101 [40:42<00:00,  2.22s/it]\n"
     ]
    },
    {
     "name": "stdout",
     "output_type": "stream",
     "text": [
      "Starting processing for aspect: service\n"
     ]
    },
    {
     "name": "stderr",
     "output_type": "stream",
     "text": [
      "Batches for service:   0%|          | 0/1101 [00:00<?, ?it/s]C:\\Users\\durud\\AppData\\Local\\Temp\\ipykernel_4156\\4186918797.py:17: FutureWarning: Setting an item of incompatible dtype is deprecated and will raise an error in a future version of pandas. Value '[-0.9174036979675293, 0.0, 0.7936867475509644, 0.9896687865257263, 0.0, 0.9020382761955261, 0.9776792526245117, 0.884589672088623, 0.975037693977356, 0.4754139184951782, 0.0, 0.9490528702735901]' has dtype incompatible with int64, please explicitly cast to a compatible dtype first.\n",
      "  review_df.loc[score_index, f'{aspect}_score'] = scores\n",
      "Batches for service: 100%|██████████| 1101/1101 [30:39<00:00,  1.67s/it]\n"
     ]
    },
    {
     "name": "stdout",
     "output_type": "stream",
     "text": [
      "Starting processing for aspect: location\n"
     ]
    },
    {
     "name": "stderr",
     "output_type": "stream",
     "text": [
      "Batches for location:   0%|          | 0/1101 [00:00<?, ?it/s]C:\\Users\\durud\\AppData\\Local\\Temp\\ipykernel_4156\\4186918797.py:17: FutureWarning: Setting an item of incompatible dtype is deprecated and will raise an error in a future version of pandas. Value '[0.0, -0.5853679776191711, 0.9897840619087219, 0.0, 0.9068031907081604, 0.8945943117141724, 0.9765719771385193, 0.4954180121421814, 0.0, 0.0, 0.9514815807342529]' has dtype incompatible with int64, please explicitly cast to a compatible dtype first.\n",
      "  review_df.loc[score_index, f'{aspect}_score'] = scores\n",
      "Batches for location: 100%|██████████| 1101/1101 [29:29<00:00,  1.61s/it]\n"
     ]
    },
    {
     "name": "stdout",
     "output_type": "stream",
     "text": [
      "Starting processing for aspect: value\n"
     ]
    },
    {
     "name": "stderr",
     "output_type": "stream",
     "text": [
      "Batches for value:   0%|          | 0/1101 [00:00<?, ?it/s]C:\\Users\\durud\\AppData\\Local\\Temp\\ipykernel_4156\\4186918797.py:17: FutureWarning: Setting an item of incompatible dtype is deprecated and will raise an error in a future version of pandas. Value '[0.0, -0.5638523101806641, -0.9377651810646057, 0.49212780594825745, 0.0, 0.0, 0.9528038501739502]' has dtype incompatible with int64, please explicitly cast to a compatible dtype first.\n",
      "  review_df.loc[score_index, f'{aspect}_score'] = scores\n",
      "Batches for value: 100%|██████████| 1101/1101 [16:38<00:00,  1.10it/s]\n"
     ]
    },
    {
     "name": "stdout",
     "output_type": "stream",
     "text": [
      "Starting processing for aspect: safety\n"
     ]
    },
    {
     "name": "stderr",
     "output_type": "stream",
     "text": [
      "Batches for safety:   0%|          | 0/1101 [00:00<?, ?it/s]C:\\Users\\durud\\AppData\\Local\\Temp\\ipykernel_4156\\4186918797.py:17: FutureWarning: Setting an item of incompatible dtype is deprecated and will raise an error in a future version of pandas. Value '[0.793112576007843, 0.7247552871704102]' has dtype incompatible with int64, please explicitly cast to a compatible dtype first.\n",
      "  review_df.loc[score_index, f'{aspect}_score'] = scores\n",
      "Batches for safety: 100%|██████████| 1101/1101 [02:53<00:00,  6.34it/s]\n"
     ]
    },
    {
     "name": "stdout",
     "output_type": "stream",
     "text": [
      "Starting processing for aspect: comfort\n"
     ]
    },
    {
     "name": "stderr",
     "output_type": "stream",
     "text": [
      "Batches for comfort:   0%|          | 0/1101 [00:00<?, ?it/s]C:\\Users\\durud\\AppData\\Local\\Temp\\ipykernel_4156\\4186918797.py:17: FutureWarning: Setting an item of incompatible dtype is deprecated and will raise an error in a future version of pandas. Value '[0.989479124546051, 0.907455563545227, 0.9756858348846436, 0.8896686434745789, 0.9748362302780151]' has dtype incompatible with int64, please explicitly cast to a compatible dtype first.\n",
      "  review_df.loc[score_index, f'{aspect}_score'] = scores\n",
      "Batches for comfort: 100%|██████████| 1101/1101 [12:18<00:00,  1.49it/s]\n"
     ]
    },
    {
     "name": "stdout",
     "output_type": "stream",
     "text": [
      "Starting processing for aspect: transportation\n"
     ]
    },
    {
     "name": "stderr",
     "output_type": "stream",
     "text": [
      "Batches for transportation:   0%|          | 0/1101 [00:00<?, ?it/s]C:\\Users\\durud\\AppData\\Local\\Temp\\ipykernel_4156\\4186918797.py:17: FutureWarning: Setting an item of incompatible dtype is deprecated and will raise an error in a future version of pandas. Value '[0.0, -0.5152960419654846, -0.8589624762535095, 0.9897019863128662, 0.9762139916419983, 0.0, 0.0, 0.9501301646232605]' has dtype incompatible with int64, please explicitly cast to a compatible dtype first.\n",
      "  review_df.loc[score_index, f'{aspect}_score'] = scores\n",
      "Batches for transportation: 100%|██████████| 1101/1101 [23:24<00:00,  1.28s/it]\n"
     ]
    },
    {
     "name": "stdout",
     "output_type": "stream",
     "text": [
      "Starting processing for aspect: noise\n"
     ]
    },
    {
     "name": "stderr",
     "output_type": "stream",
     "text": [
      "Batches for noise:   0%|          | 0/1101 [00:00<?, ?it/s]C:\\Users\\durud\\AppData\\Local\\Temp\\ipykernel_4156\\4186918797.py:17: FutureWarning: Setting an item of incompatible dtype is deprecated and will raise an error in a future version of pandas. Value '[0.7612712979316711, 0.8747082948684692, 0.8837984204292297, 0.9764958620071411, 0.4826149344444275, 0.0, 0.9346925020217896]' has dtype incompatible with int64, please explicitly cast to a compatible dtype first.\n",
      "  review_df.loc[score_index, f'{aspect}_score'] = scores\n",
      "Batches for noise: 100%|██████████| 1101/1101 [06:16<00:00,  2.92it/s]\n"
     ]
    }
   ],
   "source": [
    "review_df = process_reviews(roberta_pipeline, weights)"
   ]
  },
  {
   "cell_type": "code",
   "execution_count": 9,
   "metadata": {},
   "outputs": [],
   "source": [
    "review_df.to_csv(f'csv/{dataset}_final_reviewdf.csv', index=False)"
   ]
  },
  {
   "cell_type": "code",
   "execution_count": 10,
   "metadata": {},
   "outputs": [],
   "source": [
    "aggregated_scores = review_df.groupby(['hotel_name', 'hotel_city']).agg({\n",
    "    'cleanliness_score': 'mean',\n",
    "    'room_score': 'mean',\n",
    "    'service_score': 'mean',\n",
    "    'location_score': 'mean',\n",
    "    'value_score': 'mean',\n",
    "    'safety_score': 'mean',\n",
    "    'comfort_score': 'mean',\n",
    "    'transportation_score': 'mean',\n",
    "    'noise_score': 'mean'\n",
    "}).reset_index()\n",
    "\n",
    "aggregated_scores.to_csv(f'csv/{dataset}_aggregated_hotel_scores.csv', index=False)"
   ]
  },
  {
   "cell_type": "code",
   "execution_count": 11,
   "metadata": {},
   "outputs": [
    {
     "data": {
      "text/html": [
       "<div>\n",
       "<style scoped>\n",
       "    .dataframe tbody tr th:only-of-type {\n",
       "        vertical-align: middle;\n",
       "    }\n",
       "\n",
       "    .dataframe tbody tr th {\n",
       "        vertical-align: top;\n",
       "    }\n",
       "\n",
       "    .dataframe thead th {\n",
       "        text-align: right;\n",
       "    }\n",
       "</style>\n",
       "<table border=\"1\" class=\"dataframe\">\n",
       "  <thead>\n",
       "    <tr style=\"text-align: right;\">\n",
       "      <th></th>\n",
       "      <th>hotel_name</th>\n",
       "      <th>hotel_city</th>\n",
       "      <th>cleanliness_score</th>\n",
       "      <th>room_score</th>\n",
       "      <th>service_score</th>\n",
       "      <th>location_score</th>\n",
       "      <th>value_score</th>\n",
       "      <th>safety_score</th>\n",
       "      <th>comfort_score</th>\n",
       "      <th>transportation_score</th>\n",
       "      <th>noise_score</th>\n",
       "    </tr>\n",
       "  </thead>\n",
       "  <tbody>\n",
       "    <tr>\n",
       "      <th>0</th>\n",
       "      <td>usa_illinois_chicago_abbott_hotel</td>\n",
       "      <td>chicago</td>\n",
       "      <td>-0.104653</td>\n",
       "      <td>-0.000288</td>\n",
       "      <td>0.108244</td>\n",
       "      <td>0.050552</td>\n",
       "      <td>-0.187702</td>\n",
       "      <td>0.000000</td>\n",
       "      <td>0.123685</td>\n",
       "      <td>-0.048070</td>\n",
       "      <td>0.095159</td>\n",
       "    </tr>\n",
       "    <tr>\n",
       "      <th>1</th>\n",
       "      <td>usa_illinois_chicago_affinia_chicago</td>\n",
       "      <td>chicago</td>\n",
       "      <td>0.256901</td>\n",
       "      <td>0.694170</td>\n",
       "      <td>0.664818</td>\n",
       "      <td>0.574666</td>\n",
       "      <td>0.224325</td>\n",
       "      <td>0.041355</td>\n",
       "      <td>0.297718</td>\n",
       "      <td>0.366096</td>\n",
       "      <td>0.135250</td>\n",
       "    </tr>\n",
       "    <tr>\n",
       "      <th>2</th>\n",
       "      <td>usa_illinois_chicago_allerton_hotel</td>\n",
       "      <td>chicago</td>\n",
       "      <td>0.223598</td>\n",
       "      <td>0.381937</td>\n",
       "      <td>0.284964</td>\n",
       "      <td>0.365171</td>\n",
       "      <td>0.175732</td>\n",
       "      <td>0.019768</td>\n",
       "      <td>0.146325</td>\n",
       "      <td>0.228311</td>\n",
       "      <td>0.054012</td>\n",
       "    </tr>\n",
       "    <tr>\n",
       "      <th>3</th>\n",
       "      <td>usa_illinois_chicago_amalfi_hotel_chicago</td>\n",
       "      <td>chicago</td>\n",
       "      <td>0.287523</td>\n",
       "      <td>0.702290</td>\n",
       "      <td>0.581009</td>\n",
       "      <td>0.516833</td>\n",
       "      <td>0.247910</td>\n",
       "      <td>0.023850</td>\n",
       "      <td>0.331465</td>\n",
       "      <td>0.446419</td>\n",
       "      <td>0.080925</td>\n",
       "    </tr>\n",
       "    <tr>\n",
       "      <th>4</th>\n",
       "      <td>usa_illinois_chicago_ambassador_east_hotel</td>\n",
       "      <td>chicago</td>\n",
       "      <td>0.308008</td>\n",
       "      <td>0.560726</td>\n",
       "      <td>0.535553</td>\n",
       "      <td>0.463980</td>\n",
       "      <td>0.239201</td>\n",
       "      <td>0.060200</td>\n",
       "      <td>0.205209</td>\n",
       "      <td>0.440992</td>\n",
       "      <td>0.054420</td>\n",
       "    </tr>\n",
       "    <tr>\n",
       "      <th>...</th>\n",
       "      <td>...</td>\n",
       "      <td>...</td>\n",
       "      <td>...</td>\n",
       "      <td>...</td>\n",
       "      <td>...</td>\n",
       "      <td>...</td>\n",
       "      <td>...</td>\n",
       "      <td>...</td>\n",
       "      <td>...</td>\n",
       "      <td>...</td>\n",
       "      <td>...</td>\n",
       "    </tr>\n",
       "    <tr>\n",
       "      <th>133</th>\n",
       "      <td>usa_illinois_chicago_w_chicago_lakeshore</td>\n",
       "      <td>chicago</td>\n",
       "      <td>0.085183</td>\n",
       "      <td>0.404016</td>\n",
       "      <td>0.326029</td>\n",
       "      <td>0.284129</td>\n",
       "      <td>0.137131</td>\n",
       "      <td>-0.000468</td>\n",
       "      <td>0.165454</td>\n",
       "      <td>0.241664</td>\n",
       "      <td>0.011303</td>\n",
       "    </tr>\n",
       "    <tr>\n",
       "      <th>134</th>\n",
       "      <td>usa_illinois_chicago_westin_chicago_northwest</td>\n",
       "      <td>chicago</td>\n",
       "      <td>0.315784</td>\n",
       "      <td>0.536129</td>\n",
       "      <td>0.401999</td>\n",
       "      <td>0.373329</td>\n",
       "      <td>0.263409</td>\n",
       "      <td>0.043026</td>\n",
       "      <td>0.373556</td>\n",
       "      <td>0.365028</td>\n",
       "      <td>0.032471</td>\n",
       "    </tr>\n",
       "    <tr>\n",
       "      <th>135</th>\n",
       "      <td>usa_illinois_chicago_wheeler_mansion</td>\n",
       "      <td>chicago</td>\n",
       "      <td>0.062611</td>\n",
       "      <td>0.246772</td>\n",
       "      <td>0.160506</td>\n",
       "      <td>0.130178</td>\n",
       "      <td>-0.001984</td>\n",
       "      <td>0.019688</td>\n",
       "      <td>0.127608</td>\n",
       "      <td>0.143419</td>\n",
       "      <td>0.000000</td>\n",
       "    </tr>\n",
       "    <tr>\n",
       "      <th>136</th>\n",
       "      <td>usa_illinois_chicago_willows_hotel_chicago</td>\n",
       "      <td>chicago</td>\n",
       "      <td>0.575951</td>\n",
       "      <td>0.923869</td>\n",
       "      <td>0.572430</td>\n",
       "      <td>0.394372</td>\n",
       "      <td>0.196258</td>\n",
       "      <td>0.196222</td>\n",
       "      <td>0.590538</td>\n",
       "      <td>0.747519</td>\n",
       "      <td>0.000000</td>\n",
       "    </tr>\n",
       "    <tr>\n",
       "      <th>137</th>\n",
       "      <td>usa_illinois_chicago_wyndham_chicago</td>\n",
       "      <td>chicago</td>\n",
       "      <td>0.281500</td>\n",
       "      <td>0.551389</td>\n",
       "      <td>0.436556</td>\n",
       "      <td>0.489084</td>\n",
       "      <td>0.235523</td>\n",
       "      <td>0.016535</td>\n",
       "      <td>0.232361</td>\n",
       "      <td>0.338510</td>\n",
       "      <td>0.087713</td>\n",
       "    </tr>\n",
       "  </tbody>\n",
       "</table>\n",
       "<p>138 rows × 11 columns</p>\n",
       "</div>"
      ],
      "text/plain": [
       "                                        hotel_name hotel_city  \\\n",
       "0                usa_illinois_chicago_abbott_hotel    chicago   \n",
       "1             usa_illinois_chicago_affinia_chicago    chicago   \n",
       "2              usa_illinois_chicago_allerton_hotel    chicago   \n",
       "3        usa_illinois_chicago_amalfi_hotel_chicago    chicago   \n",
       "4       usa_illinois_chicago_ambassador_east_hotel    chicago   \n",
       "..                                             ...        ...   \n",
       "133       usa_illinois_chicago_w_chicago_lakeshore    chicago   \n",
       "134  usa_illinois_chicago_westin_chicago_northwest    chicago   \n",
       "135           usa_illinois_chicago_wheeler_mansion    chicago   \n",
       "136     usa_illinois_chicago_willows_hotel_chicago    chicago   \n",
       "137           usa_illinois_chicago_wyndham_chicago    chicago   \n",
       "\n",
       "     cleanliness_score  room_score  service_score  location_score  \\\n",
       "0            -0.104653   -0.000288       0.108244        0.050552   \n",
       "1             0.256901    0.694170       0.664818        0.574666   \n",
       "2             0.223598    0.381937       0.284964        0.365171   \n",
       "3             0.287523    0.702290       0.581009        0.516833   \n",
       "4             0.308008    0.560726       0.535553        0.463980   \n",
       "..                 ...         ...            ...             ...   \n",
       "133           0.085183    0.404016       0.326029        0.284129   \n",
       "134           0.315784    0.536129       0.401999        0.373329   \n",
       "135           0.062611    0.246772       0.160506        0.130178   \n",
       "136           0.575951    0.923869       0.572430        0.394372   \n",
       "137           0.281500    0.551389       0.436556        0.489084   \n",
       "\n",
       "     value_score  safety_score  comfort_score  transportation_score  \\\n",
       "0      -0.187702      0.000000       0.123685             -0.048070   \n",
       "1       0.224325      0.041355       0.297718              0.366096   \n",
       "2       0.175732      0.019768       0.146325              0.228311   \n",
       "3       0.247910      0.023850       0.331465              0.446419   \n",
       "4       0.239201      0.060200       0.205209              0.440992   \n",
       "..           ...           ...            ...                   ...   \n",
       "133     0.137131     -0.000468       0.165454              0.241664   \n",
       "134     0.263409      0.043026       0.373556              0.365028   \n",
       "135    -0.001984      0.019688       0.127608              0.143419   \n",
       "136     0.196258      0.196222       0.590538              0.747519   \n",
       "137     0.235523      0.016535       0.232361              0.338510   \n",
       "\n",
       "     noise_score  \n",
       "0       0.095159  \n",
       "1       0.135250  \n",
       "2       0.054012  \n",
       "3       0.080925  \n",
       "4       0.054420  \n",
       "..           ...  \n",
       "133     0.011303  \n",
       "134     0.032471  \n",
       "135     0.000000  \n",
       "136     0.000000  \n",
       "137     0.087713  \n",
       "\n",
       "[138 rows x 11 columns]"
      ]
     },
     "metadata": {},
     "output_type": "display_data"
    }
   ],
   "source": [
    "display(aggregated_scores)"
   ]
  },
  {
   "cell_type": "code",
   "execution_count": 12,
   "metadata": {},
   "outputs": [],
   "source": [
    "def normalize_scores(df, aspects):\n",
    "    for aspect in aspects:\n",
    "        min_score = df[f'{aspect}_score'].min()\n",
    "        max_score = df[f'{aspect}_score'].max()\n",
    "        df[f'{aspect}_score'] = 1 + 4 * (df[f'{aspect}_score'] - min_score) / (max_score - min_score)\n",
    "    return df"
   ]
  },
  {
   "cell_type": "code",
   "execution_count": 13,
   "metadata": {},
   "outputs": [],
   "source": [
    "aggregated_scores = pd.read_csv(f'csv/{dataset}_aggregated_hotel_scores.csv')\n",
    "aggregated_scores = normalize_scores(aggregated_scores, aspects)\n",
    "aggregated_scores.to_csv(f'csv/{dataset}_normalized_scores.csv', index=False)"
   ]
  },
  {
   "cell_type": "code",
   "execution_count": 6,
   "metadata": {},
   "outputs": [],
   "source": [
    "review_df = pd.read_csv('csv/chicago_final_reviewdf.csv')"
   ]
  },
  {
   "cell_type": "code",
   "execution_count": null,
   "metadata": {},
   "outputs": [],
   "source": [
    "from sklearn.model_selection import train_test_split\n",
    "\n",
    "X_train, X_test, y_train, y_test = train_test_split(x, y, test_size=0.2, random_state=42)\n"
   ]
  }
 ],
 "metadata": {
  "kernelspec": {
   "display_name": "Python 3",
   "language": "python",
   "name": "python3"
  },
  "language_info": {
   "codemirror_mode": {
    "name": "ipython",
    "version": 3
   },
   "file_extension": ".py",
   "mimetype": "text/x-python",
   "name": "python",
   "nbconvert_exporter": "python",
   "pygments_lexer": "ipython3",
   "version": "3.12.3"
  }
 },
 "nbformat": 4,
 "nbformat_minor": 2
}
