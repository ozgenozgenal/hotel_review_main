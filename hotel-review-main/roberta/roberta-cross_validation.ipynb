{
 "cells": [
  {
   "cell_type": "code",
   "execution_count": 4,
   "metadata": {},
   "outputs": [
    {
     "name": "stderr",
     "output_type": "stream",
     "text": [
      "<>:17: SyntaxWarning: invalid escape sequence '\\w'\n",
      "<>:17: SyntaxWarning: invalid escape sequence '\\w'\n",
      "C:\\Users\\durud\\AppData\\Local\\Temp\\ipykernel_5688\\1271500579.py:17: SyntaxWarning: invalid escape sequence '\\w'\n",
      "  review_df['hotel_review'] = review_df['hotel_review'].str.replace('[^\\w\\s]', '', regex=True) # remove punctuation\n"
     ]
    }
   ],
   "source": [
    "import pandas as pd\n",
    "import openpyxl\n",
    "import os\n",
    "import re\n",
    "import torch.nn.functional as F\n",
    "from transformers import AutoTokenizer, AutoModelForSequenceClassification, pipeline\n",
    "import logging\n",
    "from tqdm import tqdm\n",
    "import torch\n",
    "\n",
    "# Load your dataset\n",
    "df = pd.read_csv('las-vegas_aggregated_hotel_scores.csv')\n",
    "\n",
    "annotated_reviews = pd.read_excel('manual_annotation.xlsx', header=0)\n",
    "def preprocess_reviews(review_df):\n",
    "    review_df['hotel_review'] = review_df['hotel_review'].str.lower() # convert to lowercase\n",
    "    review_df['hotel_review'] = review_df['hotel_review'].str.replace('[^\\w\\s]', '', regex=True) # remove punctuation\n",
    "    return review_df\n",
    "\n",
    "annotated_reviews = preprocess_reviews(annotated_reviews)"
   ]
  },
  {
   "cell_type": "code",
   "execution_count": 5,
   "metadata": {},
   "outputs": [
    {
     "name": "stderr",
     "output_type": "stream",
     "text": [
      "c:\\Users\\durud\\AppData\\Local\\Programs\\Python\\Python312\\Lib\\site-packages\\huggingface_hub\\file_download.py:1132: FutureWarning: `resume_download` is deprecated and will be removed in version 1.0.0. Downloads always resume when possible. If you want to force a new download, use `force_download=True`.\n",
      "  warnings.warn(\n"
     ]
    }
   ],
   "source": [
    "roberta_tokenizer = AutoTokenizer.from_pretrained(\"cardiffnlp/twitter-roberta-base-sentiment\")\n",
    "roberta_model = AutoModelForSequenceClassification.from_pretrained(\"cardiffnlp/twitter-roberta-base-sentiment\")\n",
    "roberta_pipeline = pipeline(\"sentiment-analysis\", model=roberta_model, tokenizer=roberta_tokenizer)"
   ]
  },
  {
   "cell_type": "code",
   "execution_count": 6,
   "metadata": {},
   "outputs": [],
   "source": [
    "aspects = ['cleanliness', 'room', 'service', 'location', 'value', 'safety', 'comfort', 'transportation', 'noise']\n",
    "weights = {'LABEL_0': -1, 'LABEL_1': 0, 'LABEL_2': 1}\n",
    "batch_size = 16\n",
    "review_df=annotated_reviews\n",
    "\n",
    "aspect_keywords = {\n",
    "    'cleanliness': ['clean', 'cleanliness'],\n",
    "    'room': ['room', 'bed', 'suite', 'large'],\n",
    "    'service': ['service', 'staff', 'help', 'support'],\n",
    "    'location': ['location', 'close'],\n",
    "    'value': ['value', 'worth', 'price'],\n",
    "    'safety': ['safe', 'safety', 'secure'],\n",
    "    'comfort': ['comfort', 'comfortable'],\n",
    "    'transportation': ['bus', 'metro', 'station', 'close', 'walk'],\n",
    "    'noise': ['sound', 'volume']\n",
    "}\n",
    "\n",
    "def is_aspect_mentioned(review, aspect):\n",
    "    keywords = aspect_keywords[aspect]\n",
    "    return any(keyword in review for keyword in keywords)\n",
    "\n",
    "for aspect in aspects:\n",
    "    review_df[f'{aspect}_score'] = 0"
   ]
  },
  {
   "cell_type": "code",
   "execution_count": 7,
   "metadata": {},
   "outputs": [
    {
     "name": "stdout",
     "output_type": "stream",
     "text": [
      "                                          hotel_ name hotel_city  \\\n",
      "0                 china_beijing_aloft_beijing_haidian    beijing   \n",
      "1                        china_beijing_ascott_beijing    beijing   \n",
      "2         china_beijing_autumn_garden_courtyard_hotel    beijing   \n",
      "3                 china_beijing_capital_hotel_beijing    beijing   \n",
      "4                     china_beijing_china_world_hotel    beijing   \n",
      "5                         china_beijing_harmony_hotel    beijing   \n",
      "6            china_beijing_hotel_ibis_beijing_sanyuan    beijing   \n",
      "7                           china_beijing_huadu_hotel    beijing   \n",
      "8           usa_illinois_chicago_amalfi_hotel_chicago    chicago   \n",
      "9                   usa_illinois_chicago_belair_hotel    chicago   \n",
      "10                   usa_illinois_chicago_hotel_blake    chicago   \n",
      "11  usa_illinois_chicago_hotel_indigo_chicago_down...    chicago   \n",
      "12  usa_illinois_chicago_howard_johnson_inn_downto...    chicago   \n",
      "13           usa_illinois_chicago_inn_at_lincoln_park    chicago   \n",
      "14                 usa_illinois_chicago_james_chicago    chicago   \n",
      "15          usa_illinois_chicago_avenue_hotel_chicago    chicago   \n",
      "16       usa_illinois_chicago_hard_rock_hotel_chicago    chicago   \n",
      "17             usa_illinois_chicago_the_talbott_hotel    chicago   \n",
      "18           usa_illinois_chicago_the_tremont_chicago    chicago   \n",
      "19           plaza hotelare_dubai_admiral_plaza_hotel      dubai   \n",
      "20                      are_dubai_admiral_plaza_hotel      dubai   \n",
      "21                         are_dubai_al_khaleej_hotel      dubai   \n",
      "22                             are_dubai_burj_al_arab      dubai   \n",
      "23                 are_dubai_dolphin_hotel_apartments      dubai   \n",
      "24                        are_dubai_dubai_grand_hotel      dubai   \n",
      "25                are_dubai_dubai_international_hotel      dubai   \n",
      "26                            are_dubai_fortune_hotel      dubai   \n",
      "27                         are_dubai_marco_polo_hotel      dubai   \n",
      "28       usa_nevada_las-vegas_americas_best_value_inn  las-vegas   \n",
      "29                   usa_nevada_las-vegas_aruba_hotel  las-vegas   \n",
      "30            usa_nevada_las-vegas_bellagio_las_vegas  las-vegas   \n",
      "31     usa_nevada_las-vegas_best_western_mccarran_inn  las-vegas   \n",
      "32  usa_nevada_las-vegas_binion_s_horseshoe_hotel_...  las-vegas   \n",
      "33                   usa_nevada_las-vegas_econo_lodge  las-vegas   \n",
      "34  usa_nevada_las-vegas_element_by_westin_las_veg...  las-vegas   \n",
      "35      usa_nevada_las-vegas_emerald_suites_tropicana  las-vegas   \n",
      "36  usa_nevada_las-vegas_extended_stayamerica_las_...  las-vegas   \n",
      "37      usa_nevada_las-vegas_golden_gate_hotel_casino  las-vegas   \n",
      "38                        uk_england_london_39_suites     london   \n",
      "39      uk_england_london_44_curzon_street_apartments     london   \n",
      "40      uk_england_london_51_kensington_court_limited     london   \n",
      "41                uk_england_london_54_boutique_hotel     london   \n",
      "42  uk_england_london_130_queensgate_london_apartm...     london   \n",
      "43            uk_england_london_190_bermondsey_street     london   \n",
      "44                  uk_england_london_196_bishopsgate     london   \n",
      "45                     uk_england_london_a_to_z_hotel     london   \n",
      "46          uk_england_london_abba_queen_s_gate_hotel     london   \n",
      "47                uk_england_london_abbey_court_hotel     london   \n",
      "48            uk_england_london_abbey_court_hyde_park     london   \n",
      "49                can_montreal_aloft_montreal_airport   montreal   \n",
      "50                     can_montreal_auberge_bonaparte   montreal   \n",
      "51                     can_montreal_auberge_bonaparte   montreal   \n",
      "52                    can_montreal_auberge_le_pomerol   montreal   \n",
      "53                    can_montreal_auberge_le_pomerol   montreal   \n",
      "54          can_montreal_best_western_europa_downtown   montreal   \n",
      "55  can_montreal_best_western_ville_marie_hotel_suite   montreal   \n",
      "56  can_montreal_candlewood_suites_montreal_centre...   montreal   \n",
      "57                   can_montreal_chateau_de_l_argoat   montreal   \n",
      "58                    can_montreal_chateau_versailles   montreal   \n",
      "\n",
      "                                         hotel_review  cleanliness_score  \\\n",
      "0   excellent value  location not a big problem we...                  0   \n",
      "1   clean rooms good location poor service checkin...                  0   \n",
      "2   very nice hotel we get vacation every year aft...                  0   \n",
      "3   great location but food and drinks pricey we s...                  0   \n",
      "4   what a great introduction to beijing hospitali...                  0   \n",
      "5   an ok hotel but give the staff english lessons...                  0   \n",
      "6   just ok we were really happy with the ibis in ...                  0   \n",
      "7   good hotel the biggest advantage of the hotel ...                  0   \n",
      "8   not what i expected my wife and i stayed at th...                  0   \n",
      "9   it stinks  literally i only stayed there becau...                  0   \n",
      "10  this hotel is a hidden gem when this hotel was...                  0   \n",
      "11  great escape i booked hotel blake for my recen...                  0   \n",
      "12  its allright true it was kinda old but all the...                  0   \n",
      "13  if youre looking for comfort and some modern c...                  0   \n",
      "14  great price good service i stayed for 5 nights...                  0   \n",
      "15  great location and staff had a wonderful stay ...                  0   \n",
      "16  underwhelmed this is our second time at a hard...                  0   \n",
      "17  the talbott was great we chose the talbott for...                  0   \n",
      "18  great location but we love to stay in these no...                  0   \n",
      "19  value for money i had stayed in admiral plaza ...                  0   \n",
      "20  value for money the hotel has very good locati...                  0   \n",
      "21  best palace for backpackers  great location i ...                  0   \n",
      "22  where are the 7 stars my son his girlfriend an...                  0   \n",
      "23  wouldnt go backk i stayed there for a week  le...                  0   \n",
      "24  have never stayed in a worse hotel i have just...                  0   \n",
      "25  great for a stopover this is an excellent hote...                  0   \n",
      "26  rude staff bad service a guy entered my room w...                  0   \n",
      "27  bar is very nice i have never been in the hote...                  0   \n",
      "28  im glad it stays in vegas we booked a room in ...                  0   \n",
      "29  vegass hidden treasure great place to stay las...                  0   \n",
      "30  best place to stay on the strip where else to ...                  0   \n",
      "31  wonderfull stay hotel was nice although minor ...                  0   \n",
      "32  dont waste your money on the strip we always s...                  0   \n",
      "33  the room had an awful smell ok hotel but the c...                  0   \n",
      "34  great the business traveler my wife and i book...                  0   \n",
      "35  highly recomended when i first booked this i w...                  0   \n",
      "36  definately a budget hotel the extended stay va...                  0   \n",
      "37  sports talk with the guys  hosted by the golde...                  0   \n",
      "38  small noisy average price but convenient the r...                  0   \n",
      "39  will only stay at 51 buckingham gate when in l...                  0   \n",
      "40  look no further we have been visiting london f...                  0   \n",
      "41  great valuegreat area of london my son and i t...                  0   \n",
      "42  good for a short stay in central london ive st...                  0   \n",
      "43  overpriced small prefabricated cell i apprecia...                  0   \n",
      "44  great stay great location i picked this hotel ...                  0   \n",
      "45  in the middle of nowhere this place is not a h...                  0   \n",
      "46  a good overall experience we stayed at the abb...                  0   \n",
      "47  disappointed i have just returned from a two n...                  0   \n",
      "48  avoid this hotel the entrace reception is love...                  0   \n",
      "49  cool hotel the feeling was a quotikeaquot insp...                  0   \n",
      "50  outstanding service we stayed at the auberge b...                  0   \n",
      "51  fantastic old port we stayed at the auberge fo...                  0   \n",
      "52  a very enjoyable stay in a great hotel ideal l...                  0   \n",
      "53  great experience                              ...                  0   \n",
      "54  great location i stayed here 3 nights on a per...                  0   \n",
      "55  beautiful stay my husband and i stayed one nig...                  0   \n",
      "56  blood on pillows the worst stay we have ever h...                  0   \n",
      "57  reasonable well located accommodation the hote...                  0   \n",
      "58  nothing but good things to say about this plac...                  0   \n",
      "\n",
      "    room_score  service_score  location_score  value_score  safety_score  \\\n",
      "0            0              0               0            0             0   \n",
      "1            0              0               0            0             0   \n",
      "2            0              0               0            0             0   \n",
      "3            0              0               0            0             0   \n",
      "4            0              0               0            0             0   \n",
      "5            0              0               0            0             0   \n",
      "6            0              0               0            0             0   \n",
      "7            0              0               0            0             0   \n",
      "8            0              0               0            0             0   \n",
      "9            0              0               0            0             0   \n",
      "10           0              0               0            0             0   \n",
      "11           0              0               0            0             0   \n",
      "12           0              0               0            0             0   \n",
      "13           0              0               0            0             0   \n",
      "14           0              0               0            0             0   \n",
      "15           0              0               0            0             0   \n",
      "16           0              0               0            0             0   \n",
      "17           0              0               0            0             0   \n",
      "18           0              0               0            0             0   \n",
      "19           0              0               0            0             0   \n",
      "20           0              0               0            0             0   \n",
      "21           0              0               0            0             0   \n",
      "22           0              0               0            0             0   \n",
      "23           0              0               0            0             0   \n",
      "24           0              0               0            0             0   \n",
      "25           0              0               0            0             0   \n",
      "26           0              0               0            0             0   \n",
      "27           0              0               0            0             0   \n",
      "28           0              0               0            0             0   \n",
      "29           0              0               0            0             0   \n",
      "30           0              0               0            0             0   \n",
      "31           0              0               0            0             0   \n",
      "32           0              0               0            0             0   \n",
      "33           0              0               0            0             0   \n",
      "34           0              0               0            0             0   \n",
      "35           0              0               0            0             0   \n",
      "36           0              0               0            0             0   \n",
      "37           0              0               0            0             0   \n",
      "38           0              0               0            0             0   \n",
      "39           0              0               0            0             0   \n",
      "40           0              0               0            0             0   \n",
      "41           0              0               0            0             0   \n",
      "42           0              0               0            0             0   \n",
      "43           0              0               0            0             0   \n",
      "44           0              0               0            0             0   \n",
      "45           0              0               0            0             0   \n",
      "46           0              0               0            0             0   \n",
      "47           0              0               0            0             0   \n",
      "48           0              0               0            0             0   \n",
      "49           0              0               0            0             0   \n",
      "50           0              0               0            0             0   \n",
      "51           0              0               0            0             0   \n",
      "52           0              0               0            0             0   \n",
      "53           0              0               0            0             0   \n",
      "54           0              0               0            0             0   \n",
      "55           0              0               0            0             0   \n",
      "56           0              0               0            0             0   \n",
      "57           0              0               0            0             0   \n",
      "58           0              0               0            0             0   \n",
      "\n",
      "    comfort_score  transportation_score  noise_score  \n",
      "0               0                     0            0  \n",
      "1               0                     0            0  \n",
      "2               0                     0            0  \n",
      "3               0                     0            0  \n",
      "4               0                     0            0  \n",
      "5               0                     0            0  \n",
      "6               0                     0            0  \n",
      "7               0                     0            0  \n",
      "8               0                     0            0  \n",
      "9               0                     0            0  \n",
      "10              0                     0            0  \n",
      "11              0                     0            0  \n",
      "12              0                     0            0  \n",
      "13              0                     0            0  \n",
      "14              0                     0            0  \n",
      "15              0                     0            0  \n",
      "16              0                     0            0  \n",
      "17              0                     0            0  \n",
      "18              0                     0            0  \n",
      "19              0                     0            0  \n",
      "20              0                     0            0  \n",
      "21              0                     0            0  \n",
      "22              0                     0            0  \n",
      "23              0                     0            0  \n",
      "24              0                     0            0  \n",
      "25              0                     0            0  \n",
      "26              0                     0            0  \n",
      "27              0                     0            0  \n",
      "28              0                     0            0  \n",
      "29              0                     0            0  \n",
      "30              0                     0            0  \n",
      "31              0                     0            0  \n",
      "32              0                     0            0  \n",
      "33              0                     0            0  \n",
      "34              0                     0            0  \n",
      "35              0                     0            0  \n",
      "36              0                     0            0  \n",
      "37              0                     0            0  \n",
      "38              0                     0            0  \n",
      "39              0                     0            0  \n",
      "40              0                     0            0  \n",
      "41              0                     0            0  \n",
      "42              0                     0            0  \n",
      "43              0                     0            0  \n",
      "44              0                     0            0  \n",
      "45              0                     0            0  \n",
      "46              0                     0            0  \n",
      "47              0                     0            0  \n",
      "48              0                     0            0  \n",
      "49              0                     0            0  \n",
      "50              0                     0            0  \n",
      "51              0                     0            0  \n",
      "52              0                     0            0  \n",
      "53              0                     0            0  \n",
      "54              0                     0            0  \n",
      "55              0                     0            0  \n",
      "56              0                     0            0  \n",
      "57              0                     0            0  \n",
      "58              0                     0            0  \n"
     ]
    }
   ],
   "source": [
    "def process_reviews(pipeline, weights):\n",
    "    for aspect in aspects:\n",
    "        review_df[f'{aspect}_score'] = 0\n",
    "\n",
    "    for aspect in aspects:\n",
    "        print(f\"Starting processing for aspect: {aspect}\")\n",
    "        for i in tqdm(range(0, len(review_df), batch_size), desc=f\"Batches for {aspect}\"):\n",
    "            batch_reviews = review_df['hotel_review'][i:i + batch_size]\n",
    "            batch_index = batch_reviews.index\n",
    "            aspect_mentioned = [is_aspect_mentioned(review, aspect) for review in batch_reviews]\n",
    "            if any(aspect_mentioned):\n",
    "                filtered_reviews = [review for review, mentioned in zip(batch_reviews, aspect_mentioned) if mentioned]\n",
    "                aspect_reviews = [f\"{aspect}: {review[:512 - len(aspect) - 2]}\" for review in filtered_reviews]\n",
    "                results = pipeline(aspect_reviews)\n",
    "                scores = [weights[result['label']] * result['score'] for result in results]\n",
    "                score_index = [index for index, mentioned in zip(batch_index, aspect_mentioned) if mentioned]\n",
    "                review_df.loc[score_index, f'{aspect}_score'] = scores\n",
    "            else:\n",
    "                review_df.loc[batch_index, f'{aspect}_score'] = 0\n",
    "    for aspect in aspects:\n",
    "        review_df[f'{aspect}_score'] = pd.to_numeric(review_df[f'{aspect}_score'], errors='coerce')\n",
    "\n",
    "    return review_df\n",
    "\n",
    "print(review_df)"
   ]
  },
  {
   "cell_type": "code",
   "execution_count": 8,
   "metadata": {},
   "outputs": [
    {
     "name": "stdout",
     "output_type": "stream",
     "text": [
      "Starting processing for aspect: cleanliness\n"
     ]
    },
    {
     "name": "stderr",
     "output_type": "stream",
     "text": [
      "Batches for cleanliness:   0%|          | 0/4 [00:00<?, ?it/s]C:\\Users\\durud\\AppData\\Local\\Temp\\ipykernel_5688\\2392721979.py:17: FutureWarning: Setting an item of incompatible dtype is deprecated and will raise an error in a future version of pandas. Value '[0.7659935355186462, -0.5136639475822449, 0.9880737662315369, -0.4319800138473511, 0.43214327096939087, 0.8394580483436584, 0.9899953603744507]' has dtype incompatible with int64, please explicitly cast to a compatible dtype first.\n",
      "  review_df.loc[score_index, f'{aspect}_score'] = scores\n",
      "Batches for cleanliness: 100%|██████████| 4/4 [00:04<00:00,  1.10s/it]\n"
     ]
    },
    {
     "name": "stdout",
     "output_type": "stream",
     "text": [
      "Starting processing for aspect: room\n"
     ]
    },
    {
     "name": "stderr",
     "output_type": "stream",
     "text": [
      "Batches for room:   0%|          | 0/4 [00:00<?, ?it/s]C:\\Users\\durud\\AppData\\Local\\Temp\\ipykernel_5688\\2392721979.py:17: FutureWarning: Setting an item of incompatible dtype is deprecated and will raise an error in a future version of pandas. Value '[0.7741077542304993, -0.48720744252204895, 0.9805348515510559, 0.9506507515907288, 0.9890525937080383, -0.6380257606506348, -0.3939495384693146, -0.5483758449554443, -0.7770906686782837, 0.978473424911499, 0.9855126738548279, 0.43639159202575684, 0.8348538279533386, 0.9898861646652222]' has dtype incompatible with int64, please explicitly cast to a compatible dtype first.\n",
      "  review_df.loc[score_index, f'{aspect}_score'] = scores\n",
      "Batches for room: 100%|██████████| 4/4 [00:07<00:00,  1.76s/it]\n"
     ]
    },
    {
     "name": "stdout",
     "output_type": "stream",
     "text": [
      "Starting processing for aspect: service\n"
     ]
    },
    {
     "name": "stderr",
     "output_type": "stream",
     "text": [
      "Batches for service:   0%|          | 0/4 [00:00<?, ?it/s]C:\\Users\\durud\\AppData\\Local\\Temp\\ipykernel_5688\\2392721979.py:17: FutureWarning: Setting an item of incompatible dtype is deprecated and will raise an error in a future version of pandas. Value '[0.7879348397254944, -0.5050852298736572, 0.943824052810669, 0.9889523386955261, -0.6295528411865234, -0.7587869167327881, 0.9772974252700806, 0.9853240847587585, 0.4326130747795105, 0.8018378615379333, 0.9899110198020935]' has dtype incompatible with int64, please explicitly cast to a compatible dtype first.\n",
      "  review_df.loc[score_index, f'{aspect}_score'] = scores\n",
      "Batches for service: 100%|██████████| 4/4 [00:06<00:00,  1.55s/it]\n"
     ]
    },
    {
     "name": "stdout",
     "output_type": "stream",
     "text": [
      "Starting processing for aspect: location\n"
     ]
    },
    {
     "name": "stderr",
     "output_type": "stream",
     "text": [
      "Batches for location:   0%|          | 0/4 [00:00<?, ?it/s]C:\\Users\\durud\\AppData\\Local\\Temp\\ipykernel_5688\\2392721979.py:17: FutureWarning: Setting an item of incompatible dtype is deprecated and will raise an error in a future version of pandas. Value '[0.7995877861976624, -0.5055094361305237, 0.9424033164978027, 0.0, 0.0, -0.5540220737457275, 0.9851778149604797, 0.8289529085159302, 0.9895948171615601]' has dtype incompatible with int64, please explicitly cast to a compatible dtype first.\n",
      "  review_df.loc[score_index, f'{aspect}_score'] = scores\n",
      "Batches for location: 100%|██████████| 4/4 [00:04<00:00,  1.10s/it]\n"
     ]
    },
    {
     "name": "stdout",
     "output_type": "stream",
     "text": [
      "Starting processing for aspect: value\n"
     ]
    },
    {
     "name": "stderr",
     "output_type": "stream",
     "text": [
      "Batches for value:   0%|          | 0/4 [00:00<?, ?it/s]C:\\Users\\durud\\AppData\\Local\\Temp\\ipykernel_5688\\2392721979.py:17: FutureWarning: Setting an item of incompatible dtype is deprecated and will raise an error in a future version of pandas. Value '[0.7699881196022034, 0.9477910995483398, 0.0, -0.7953857779502869, 0.9785028696060181, 0.9767898917198181, 0.4182397425174713, 0.8081755638122559]' has dtype incompatible with int64, please explicitly cast to a compatible dtype first.\n",
      "  review_df.loc[score_index, f'{aspect}_score'] = scores\n",
      "Batches for value: 100%|██████████| 4/4 [00:03<00:00,  1.23it/s]\n"
     ]
    },
    {
     "name": "stdout",
     "output_type": "stream",
     "text": [
      "Starting processing for aspect: safety\n"
     ]
    },
    {
     "name": "stderr",
     "output_type": "stream",
     "text": [
      "Batches for safety:   0%|          | 0/4 [00:00<?, ?it/s]C:\\Users\\durud\\AppData\\Local\\Temp\\ipykernel_5688\\2392721979.py:17: FutureWarning: Setting an item of incompatible dtype is deprecated and will raise an error in a future version of pandas. Value '[-0.6500306725502014]' has dtype incompatible with int64, please explicitly cast to a compatible dtype first.\n",
      "  review_df.loc[score_index, f'{aspect}_score'] = scores\n",
      "Batches for safety: 100%|██████████| 4/4 [00:00<00:00,  8.37it/s]\n"
     ]
    },
    {
     "name": "stdout",
     "output_type": "stream",
     "text": [
      "Starting processing for aspect: comfort\n"
     ]
    },
    {
     "name": "stderr",
     "output_type": "stream",
     "text": [
      "Batches for comfort:   0%|          | 0/4 [00:00<?, ?it/s]C:\\Users\\durud\\AppData\\Local\\Temp\\ipykernel_5688\\2392721979.py:17: FutureWarning: Setting an item of incompatible dtype is deprecated and will raise an error in a future version of pandas. Value '[0.7935594916343689, 0.9797763228416443, 0.9845511317253113, 0.4590914845466614, 0.8175718188285828]' has dtype incompatible with int64, please explicitly cast to a compatible dtype first.\n",
      "  review_df.loc[score_index, f'{aspect}_score'] = scores\n",
      "Batches for comfort: 100%|██████████| 4/4 [00:01<00:00,  2.31it/s]\n"
     ]
    },
    {
     "name": "stdout",
     "output_type": "stream",
     "text": [
      "Starting processing for aspect: transportation\n"
     ]
    },
    {
     "name": "stderr",
     "output_type": "stream",
     "text": [
      "Batches for transportation:   0%|          | 0/4 [00:00<?, ?it/s]C:\\Users\\durud\\AppData\\Local\\Temp\\ipykernel_5688\\2392721979.py:17: FutureWarning: Setting an item of incompatible dtype is deprecated and will raise an error in a future version of pandas. Value '[0.7462123036384583, -0.49450671672821045, -0.6117425560951233, 0.0, -0.5699490308761597, 0.9900133609771729]' has dtype incompatible with int64, please explicitly cast to a compatible dtype first.\n",
      "  review_df.loc[score_index, f'{aspect}_score'] = scores\n",
      "Batches for transportation: 100%|██████████| 4/4 [00:04<00:00,  1.02s/it]\n"
     ]
    },
    {
     "name": "stdout",
     "output_type": "stream",
     "text": [
      "Starting processing for aspect: noise\n"
     ]
    },
    {
     "name": "stderr",
     "output_type": "stream",
     "text": [
      "Batches for noise:   0%|          | 0/4 [00:00<?, ?it/s]C:\\Users\\durud\\AppData\\Local\\Temp\\ipykernel_5688\\2392721979.py:17: FutureWarning: Setting an item of incompatible dtype is deprecated and will raise an error in a future version of pandas. Value '[-0.9028958082199097]' has dtype incompatible with int64, please explicitly cast to a compatible dtype first.\n",
      "  review_df.loc[score_index, f'{aspect}_score'] = scores\n",
      "Batches for noise: 100%|██████████| 4/4 [00:00<00:00, 22.47it/s]\n"
     ]
    }
   ],
   "source": [
    "review_df = process_reviews(roberta_pipeline, weights)"
   ]
  },
  {
   "cell_type": "code",
   "execution_count": 10,
   "metadata": {},
   "outputs": [],
   "source": [
    "# Define the function to convert continuous scores to discrete classes\n",
    "from matplotlib import pyplot as plt\n",
    "import seaborn as sns\n",
    "from sklearn.metrics import confusion_matrix\n",
    "\n",
    "def continuous_to_discrete(score):\n",
    "    if score <= -0.33:\n",
    "        return -1\n",
    "    elif score >= 0.33:\n",
    "        return 1\n",
    "    else:\n",
    "        return 0\n",
    "\n",
    "df_roberta=review_df\n",
    "df_manual=annotated_reviews\n",
    "# Apply the conversion function to each aspect\n"
   ]
  },
  {
   "cell_type": "code",
   "execution_count": 11,
   "metadata": {},
   "outputs": [
    {
     "ename": "KeyError",
     "evalue": "'hotel_name'",
     "output_type": "error",
     "traceback": [
      "\u001b[1;31m---------------------------------------------------------------------------\u001b[0m",
      "\u001b[1;31mKeyError\u001b[0m                                  Traceback (most recent call last)",
      "\u001b[1;32m~\\AppData\\Local\\Temp\\ipykernel_5688\\1476826594.py\u001b[0m in \u001b[0;36m?\u001b[1;34m()\u001b[0m\n\u001b[0;32m      1\u001b[0m \u001b[1;32mfor\u001b[0m \u001b[0maspect\u001b[0m \u001b[1;32min\u001b[0m \u001b[0maspects\u001b[0m\u001b[1;33m:\u001b[0m\u001b[1;33m\u001b[0m\u001b[1;33m\u001b[0m\u001b[0m\n\u001b[0;32m      2\u001b[0m     \u001b[0mdf_roberta\u001b[0m\u001b[1;33m[\u001b[0m\u001b[1;33mf'\u001b[0m\u001b[1;33m{\u001b[0m\u001b[0maspect\u001b[0m\u001b[1;33m}\u001b[0m\u001b[1;33m_class\u001b[0m\u001b[1;33m'\u001b[0m\u001b[1;33m]\u001b[0m \u001b[1;33m=\u001b[0m \u001b[0mdf_roberta\u001b[0m\u001b[1;33m[\u001b[0m\u001b[1;33mf'\u001b[0m\u001b[1;33m{\u001b[0m\u001b[0maspect\u001b[0m\u001b[1;33m}\u001b[0m\u001b[1;33m_score\u001b[0m\u001b[1;33m'\u001b[0m\u001b[1;33m]\u001b[0m\u001b[1;33m.\u001b[0m\u001b[0mapply\u001b[0m\u001b[1;33m(\u001b[0m\u001b[0mcontinuous_to_discrete\u001b[0m\u001b[1;33m)\u001b[0m\u001b[1;33m\u001b[0m\u001b[1;33m\u001b[0m\u001b[0m\n\u001b[0;32m      3\u001b[0m \u001b[1;33m\u001b[0m\u001b[0m\n\u001b[0;32m      4\u001b[0m \u001b[1;31m# Merge the datasets on the common key (assuming 'review_id' is the common key)\u001b[0m\u001b[1;33m\u001b[0m\u001b[1;33m\u001b[0m\u001b[0m\n\u001b[1;32m----> 5\u001b[1;33m \u001b[0mdf\u001b[0m \u001b[1;33m=\u001b[0m \u001b[0mpd\u001b[0m\u001b[1;33m.\u001b[0m\u001b[0mmerge\u001b[0m\u001b[1;33m(\u001b[0m\u001b[0mdf_roberta\u001b[0m\u001b[1;33m,\u001b[0m \u001b[0mdf_manual\u001b[0m\u001b[1;33m,\u001b[0m \u001b[0mon\u001b[0m\u001b[1;33m=\u001b[0m\u001b[1;34m'hotel_name'\u001b[0m\u001b[1;33m)\u001b[0m\u001b[1;33m\u001b[0m\u001b[1;33m\u001b[0m\u001b[0m\n\u001b[0m\u001b[0;32m      6\u001b[0m \u001b[1;33m\u001b[0m\u001b[0m\n\u001b[0;32m      7\u001b[0m \u001b[1;31m# Display the first few rows to verify the merge and conversion\u001b[0m\u001b[1;33m\u001b[0m\u001b[1;33m\u001b[0m\u001b[0m\n\u001b[0;32m      8\u001b[0m \u001b[0mprint\u001b[0m\u001b[1;33m(\u001b[0m\u001b[0mdf\u001b[0m\u001b[1;33m.\u001b[0m\u001b[0mhead\u001b[0m\u001b[1;33m(\u001b[0m\u001b[1;33m)\u001b[0m\u001b[1;33m)\u001b[0m\u001b[1;33m\u001b[0m\u001b[1;33m\u001b[0m\u001b[0m\n",
      "\u001b[1;32mc:\\Users\\durud\\AppData\\Local\\Programs\\Python\\Python312\\Lib\\site-packages\\pandas\\core\\reshape\\merge.py\u001b[0m in \u001b[0;36m?\u001b[1;34m(left, right, how, on, left_on, right_on, left_index, right_index, sort, suffixes, copy, indicator, validate)\u001b[0m\n\u001b[0;32m    166\u001b[0m             \u001b[0mvalidate\u001b[0m\u001b[1;33m=\u001b[0m\u001b[0mvalidate\u001b[0m\u001b[1;33m,\u001b[0m\u001b[1;33m\u001b[0m\u001b[1;33m\u001b[0m\u001b[0m\n\u001b[0;32m    167\u001b[0m             \u001b[0mcopy\u001b[0m\u001b[1;33m=\u001b[0m\u001b[0mcopy\u001b[0m\u001b[1;33m,\u001b[0m\u001b[1;33m\u001b[0m\u001b[1;33m\u001b[0m\u001b[0m\n\u001b[0;32m    168\u001b[0m         \u001b[1;33m)\u001b[0m\u001b[1;33m\u001b[0m\u001b[1;33m\u001b[0m\u001b[0m\n\u001b[0;32m    169\u001b[0m     \u001b[1;32melse\u001b[0m\u001b[1;33m:\u001b[0m\u001b[1;33m\u001b[0m\u001b[1;33m\u001b[0m\u001b[0m\n\u001b[1;32m--> 170\u001b[1;33m         op = _MergeOperation(\n\u001b[0m\u001b[0;32m    171\u001b[0m             \u001b[0mleft_df\u001b[0m\u001b[1;33m,\u001b[0m\u001b[1;33m\u001b[0m\u001b[1;33m\u001b[0m\u001b[0m\n\u001b[0;32m    172\u001b[0m             \u001b[0mright_df\u001b[0m\u001b[1;33m,\u001b[0m\u001b[1;33m\u001b[0m\u001b[1;33m\u001b[0m\u001b[0m\n\u001b[0;32m    173\u001b[0m             \u001b[0mhow\u001b[0m\u001b[1;33m=\u001b[0m\u001b[0mhow\u001b[0m\u001b[1;33m,\u001b[0m\u001b[1;33m\u001b[0m\u001b[1;33m\u001b[0m\u001b[0m\n",
      "\u001b[1;32mc:\\Users\\durud\\AppData\\Local\\Programs\\Python\\Python312\\Lib\\site-packages\\pandas\\core\\reshape\\merge.py\u001b[0m in \u001b[0;36m?\u001b[1;34m(self, left, right, how, on, left_on, right_on, left_index, right_index, sort, suffixes, indicator, validate)\u001b[0m\n\u001b[0;32m    790\u001b[0m             \u001b[0mself\u001b[0m\u001b[1;33m.\u001b[0m\u001b[0mright_join_keys\u001b[0m\u001b[1;33m,\u001b[0m\u001b[1;33m\u001b[0m\u001b[1;33m\u001b[0m\u001b[0m\n\u001b[0;32m    791\u001b[0m             \u001b[0mself\u001b[0m\u001b[1;33m.\u001b[0m\u001b[0mjoin_names\u001b[0m\u001b[1;33m,\u001b[0m\u001b[1;33m\u001b[0m\u001b[1;33m\u001b[0m\u001b[0m\n\u001b[0;32m    792\u001b[0m             \u001b[0mleft_drop\u001b[0m\u001b[1;33m,\u001b[0m\u001b[1;33m\u001b[0m\u001b[1;33m\u001b[0m\u001b[0m\n\u001b[0;32m    793\u001b[0m             \u001b[0mright_drop\u001b[0m\u001b[1;33m,\u001b[0m\u001b[1;33m\u001b[0m\u001b[1;33m\u001b[0m\u001b[0m\n\u001b[1;32m--> 794\u001b[1;33m         \u001b[1;33m)\u001b[0m \u001b[1;33m=\u001b[0m \u001b[0mself\u001b[0m\u001b[1;33m.\u001b[0m\u001b[0m_get_merge_keys\u001b[0m\u001b[1;33m(\u001b[0m\u001b[1;33m)\u001b[0m\u001b[1;33m\u001b[0m\u001b[1;33m\u001b[0m\u001b[0m\n\u001b[0m\u001b[0;32m    795\u001b[0m \u001b[1;33m\u001b[0m\u001b[0m\n\u001b[0;32m    796\u001b[0m         \u001b[1;32mif\u001b[0m \u001b[0mleft_drop\u001b[0m\u001b[1;33m:\u001b[0m\u001b[1;33m\u001b[0m\u001b[1;33m\u001b[0m\u001b[0m\n\u001b[0;32m    797\u001b[0m             \u001b[0mself\u001b[0m\u001b[1;33m.\u001b[0m\u001b[0mleft\u001b[0m \u001b[1;33m=\u001b[0m \u001b[0mself\u001b[0m\u001b[1;33m.\u001b[0m\u001b[0mleft\u001b[0m\u001b[1;33m.\u001b[0m\u001b[0m_drop_labels_or_levels\u001b[0m\u001b[1;33m(\u001b[0m\u001b[0mleft_drop\u001b[0m\u001b[1;33m)\u001b[0m\u001b[1;33m\u001b[0m\u001b[1;33m\u001b[0m\u001b[0m\n",
      "\u001b[1;32mc:\\Users\\durud\\AppData\\Local\\Programs\\Python\\Python312\\Lib\\site-packages\\pandas\\core\\reshape\\merge.py\u001b[0m in \u001b[0;36m?\u001b[1;34m(self)\u001b[0m\n\u001b[0;32m   1293\u001b[0m                         \u001b[1;31m# Then we're either Hashable or a wrong-length arraylike,\u001b[0m\u001b[1;33m\u001b[0m\u001b[1;33m\u001b[0m\u001b[0m\n\u001b[0;32m   1294\u001b[0m                         \u001b[1;31m#  the latter of which will raise\u001b[0m\u001b[1;33m\u001b[0m\u001b[1;33m\u001b[0m\u001b[0m\n\u001b[0;32m   1295\u001b[0m                         \u001b[0mrk\u001b[0m \u001b[1;33m=\u001b[0m \u001b[0mcast\u001b[0m\u001b[1;33m(\u001b[0m\u001b[0mHashable\u001b[0m\u001b[1;33m,\u001b[0m \u001b[0mrk\u001b[0m\u001b[1;33m)\u001b[0m\u001b[1;33m\u001b[0m\u001b[1;33m\u001b[0m\u001b[0m\n\u001b[0;32m   1296\u001b[0m                         \u001b[1;32mif\u001b[0m \u001b[0mrk\u001b[0m \u001b[1;32mis\u001b[0m \u001b[1;32mnot\u001b[0m \u001b[1;32mNone\u001b[0m\u001b[1;33m:\u001b[0m\u001b[1;33m\u001b[0m\u001b[1;33m\u001b[0m\u001b[0m\n\u001b[1;32m-> 1297\u001b[1;33m                             \u001b[0mright_keys\u001b[0m\u001b[1;33m.\u001b[0m\u001b[0mappend\u001b[0m\u001b[1;33m(\u001b[0m\u001b[0mright\u001b[0m\u001b[1;33m.\u001b[0m\u001b[0m_get_label_or_level_values\u001b[0m\u001b[1;33m(\u001b[0m\u001b[0mrk\u001b[0m\u001b[1;33m)\u001b[0m\u001b[1;33m)\u001b[0m\u001b[1;33m\u001b[0m\u001b[1;33m\u001b[0m\u001b[0m\n\u001b[0m\u001b[0;32m   1298\u001b[0m                         \u001b[1;32melse\u001b[0m\u001b[1;33m:\u001b[0m\u001b[1;33m\u001b[0m\u001b[1;33m\u001b[0m\u001b[0m\n\u001b[0;32m   1299\u001b[0m                             \u001b[1;31m# work-around for merge_asof(right_index=True)\u001b[0m\u001b[1;33m\u001b[0m\u001b[1;33m\u001b[0m\u001b[0m\n\u001b[0;32m   1300\u001b[0m                             \u001b[0mright_keys\u001b[0m\u001b[1;33m.\u001b[0m\u001b[0mappend\u001b[0m\u001b[1;33m(\u001b[0m\u001b[0mright\u001b[0m\u001b[1;33m.\u001b[0m\u001b[0mindex\u001b[0m\u001b[1;33m.\u001b[0m\u001b[0m_values\u001b[0m\u001b[1;33m)\u001b[0m\u001b[1;33m\u001b[0m\u001b[1;33m\u001b[0m\u001b[0m\n",
      "\u001b[1;32mc:\\Users\\durud\\AppData\\Local\\Programs\\Python\\Python312\\Lib\\site-packages\\pandas\\core\\generic.py\u001b[0m in \u001b[0;36m?\u001b[1;34m(self, key, axis)\u001b[0m\n\u001b[0;32m   1907\u001b[0m             \u001b[0mvalues\u001b[0m \u001b[1;33m=\u001b[0m \u001b[0mself\u001b[0m\u001b[1;33m.\u001b[0m\u001b[0mxs\u001b[0m\u001b[1;33m(\u001b[0m\u001b[0mkey\u001b[0m\u001b[1;33m,\u001b[0m \u001b[0maxis\u001b[0m\u001b[1;33m=\u001b[0m\u001b[0mother_axes\u001b[0m\u001b[1;33m[\u001b[0m\u001b[1;36m0\u001b[0m\u001b[1;33m]\u001b[0m\u001b[1;33m)\u001b[0m\u001b[1;33m.\u001b[0m\u001b[0m_values\u001b[0m\u001b[1;33m\u001b[0m\u001b[1;33m\u001b[0m\u001b[0m\n\u001b[0;32m   1908\u001b[0m         \u001b[1;32melif\u001b[0m \u001b[0mself\u001b[0m\u001b[1;33m.\u001b[0m\u001b[0m_is_level_reference\u001b[0m\u001b[1;33m(\u001b[0m\u001b[0mkey\u001b[0m\u001b[1;33m,\u001b[0m \u001b[0maxis\u001b[0m\u001b[1;33m=\u001b[0m\u001b[0maxis\u001b[0m\u001b[1;33m)\u001b[0m\u001b[1;33m:\u001b[0m\u001b[1;33m\u001b[0m\u001b[1;33m\u001b[0m\u001b[0m\n\u001b[0;32m   1909\u001b[0m             \u001b[0mvalues\u001b[0m \u001b[1;33m=\u001b[0m \u001b[0mself\u001b[0m\u001b[1;33m.\u001b[0m\u001b[0maxes\u001b[0m\u001b[1;33m[\u001b[0m\u001b[0maxis\u001b[0m\u001b[1;33m]\u001b[0m\u001b[1;33m.\u001b[0m\u001b[0mget_level_values\u001b[0m\u001b[1;33m(\u001b[0m\u001b[0mkey\u001b[0m\u001b[1;33m)\u001b[0m\u001b[1;33m.\u001b[0m\u001b[0m_values\u001b[0m\u001b[1;33m\u001b[0m\u001b[1;33m\u001b[0m\u001b[0m\n\u001b[0;32m   1910\u001b[0m         \u001b[1;32melse\u001b[0m\u001b[1;33m:\u001b[0m\u001b[1;33m\u001b[0m\u001b[1;33m\u001b[0m\u001b[0m\n\u001b[1;32m-> 1911\u001b[1;33m             \u001b[1;32mraise\u001b[0m \u001b[0mKeyError\u001b[0m\u001b[1;33m(\u001b[0m\u001b[0mkey\u001b[0m\u001b[1;33m)\u001b[0m\u001b[1;33m\u001b[0m\u001b[1;33m\u001b[0m\u001b[0m\n\u001b[0m\u001b[0;32m   1912\u001b[0m \u001b[1;33m\u001b[0m\u001b[0m\n\u001b[0;32m   1913\u001b[0m         \u001b[1;31m# Check for duplicates\u001b[0m\u001b[1;33m\u001b[0m\u001b[1;33m\u001b[0m\u001b[0m\n\u001b[0;32m   1914\u001b[0m         \u001b[1;32mif\u001b[0m \u001b[0mvalues\u001b[0m\u001b[1;33m.\u001b[0m\u001b[0mndim\u001b[0m \u001b[1;33m>\u001b[0m \u001b[1;36m1\u001b[0m\u001b[1;33m:\u001b[0m\u001b[1;33m\u001b[0m\u001b[1;33m\u001b[0m\u001b[0m\n",
      "\u001b[1;31mKeyError\u001b[0m: 'hotel_name'"
     ]
    }
   ],
   "source": [
    "for aspect in aspects:\n",
    "    df_roberta[f'{aspect}_class'] = df_roberta[f'{aspect}_score'].apply(continuous_to_discrete)\n",
    "\n",
    "# Merge the datasets on the common key (assuming 'review_id' is the common key)\n",
    "df = pd.merge(df_roberta, df_manual, on='hotel_name')\n",
    "\n",
    "# Display the first few rows to verify the merge and conversion\n",
    "print(df.head())\n",
    "\n",
    "# Define the function to plot a confusion matrix\n",
    "def plot_confusion_matrix(y_true, y_pred, aspect):\n",
    "    cm = confusion_matrix(y_true, y_pred, labels=[-1, 0, 1])\n",
    "    plt.figure(figsize=(8, 6))\n",
    "    sns.heatmap(cm, annot=True, fmt='d', cmap='Blues', xticklabels=['negative', 'neutral', 'positive'], yticklabels=['negative', 'neutral', 'positive'])\n",
    "    plt.title(f'Confusion Matrix for {aspect.capitalize()}')\n",
    "    plt.xlabel('Predicted')\n",
    "    plt.ylabel('True')\n",
    "    plt.show()\n",
    "\n",
    "# Plot confusion matrices for each aspect\n",
    "for aspect in aspects:\n",
    "    y_true = df[f'{aspect}']\n",
    "    y_pred = df[f'{aspect}_score']\n",
    "    plot_confusion_matrix(y_true, y_pred, aspect)\n"
   ]
  }
 ],
 "metadata": {
  "kernelspec": {
   "display_name": "Python 3",
   "language": "python",
   "name": "python3"
  },
  "language_info": {
   "codemirror_mode": {
    "name": "ipython",
    "version": 3
   },
   "file_extension": ".py",
   "mimetype": "text/x-python",
   "name": "python",
   "nbconvert_exporter": "python",
   "pygments_lexer": "ipython3",
   "version": "3.12.3"
  }
 },
 "nbformat": 4,
 "nbformat_minor": 2
}
