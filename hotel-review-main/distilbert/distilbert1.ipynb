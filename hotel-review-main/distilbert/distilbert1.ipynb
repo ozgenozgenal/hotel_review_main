{
 "cells": [
  {
   "cell_type": "code",
   "execution_count": 1,
   "metadata": {},
   "outputs": [
    {
     "name": "stderr",
     "output_type": "stream",
     "text": [
      "c:\\Users\\durud\\AppData\\Local\\Programs\\Python\\Python312\\Lib\\site-packages\\tqdm\\auto.py:21: TqdmWarning: IProgress not found. Please update jupyter and ipywidgets. See https://ipywidgets.readthedocs.io/en/stable/user_install.html\n",
      "  from .autonotebook import tqdm as notebook_tqdm\n"
     ]
    }
   ],
   "source": [
    "import os\n",
    "import re\n",
    "import pandas as pd\n",
    "import torch.nn.functional as F\n",
    "from transformers import AutoTokenizer, AutoModelForSequenceClassification, pipeline\n",
    "import logging\n",
    "from tqdm import tqdm\n",
    "import torch"
   ]
  },
  {
   "cell_type": "code",
   "execution_count": 3,
   "metadata": {},
   "outputs": [
    {
     "name": "stderr",
     "output_type": "stream",
     "text": [
      "c:\\Users\\durud\\AppData\\Local\\Programs\\Python\\Python312\\Lib\\site-packages\\huggingface_hub\\file_download.py:1132: FutureWarning: `resume_download` is deprecated and will be removed in version 1.0.0. Downloads always resume when possible. If you want to force a new download, use `force_download=True`.\n",
      "  warnings.warn(\n",
      "Some weights of DistilBertForSequenceClassification were not initialized from the model checkpoint at distilbert-base-uncased and are newly initialized: ['classifier.bias', 'classifier.weight', 'pre_classifier.bias', 'pre_classifier.weight']\n",
      "You should probably TRAIN this model on a down-stream task to be able to use it for predictions and inference.\n"
     ]
    }
   ],
   "source": [
    "dataset = 'london'\n",
    "review_df = pd.read_csv(f'csv/{dataset}_processed_reviews.csv')\n",
    "\n",
    "distilbert_tokenizer = AutoTokenizer.from_pretrained(\"distilbert-base-uncased\")\n",
    "distilbert_model = AutoModelForSequenceClassification.from_pretrained(\"distilbert-base-uncased\")\n",
    "distilbert_pipeline = pipeline(\"sentiment-analysis\", model=distilbert_model, tokenizer=distilbert_tokenizer)\n",
    "\n",
    "aspects = ['cleanliness', 'room', 'service', 'location', 'value', 'safety', 'comfort', 'transportation', 'noise']\n",
    "weights = {'LABEL_0': -1, 'LABEL_1': 0, 'LABEL_2': 1}\n",
    "batch_size = 16\n",
    "\n",
    "aspect_keywords = {\n",
    "    'cleanliness': ['clean', 'dirty', 'smell', 'stink', 'stunk', 'filthy'],\n",
    "    'room': ['room', 'bed', 'suite', 'large'],\n",
    "    'service': ['service', 'staff', 'help', 'support'],\n",
    "    'location': ['location', 'close', 'area', 'far'],\n",
    "    'value': ['value', 'worth', 'price'],\n",
    "    'safety': ['safe', 'safety', 'secure', 'danger', 'dangerous'],\n",
    "    'comfort': ['comfort', 'comfortable', 'uncomfortable'],\n",
    "    'transportation': ['bus', 'metro', 'station', 'close', 'walk'],\n",
    "    'noise': ['sound', 'volume', 'noisy', 'noise']\n",
    "}\n",
    "\n",
    "def is_aspect_mentioned(review, aspect):\n",
    "    keywords = aspect_keywords[aspect]\n",
    "    return any(keyword in review for keyword in keywords)\n",
    "\n",
    "for aspect in aspects:\n",
    "    review_df[f'{aspect}_score'] = 0\n",
    "\n",
    "def process_reviews(pipeline, weights):\n",
    "    for aspect in aspects:\n",
    "        review_df[f'{aspect}_score'] = 0\n",
    "\n",
    "    for aspect in aspects:\n",
    "        print(f\"Starting processing for aspect: {aspect}\")\n",
    "        for i in tqdm(range(0, len(review_df), batch_size), desc=f\"Batches for {aspect}\"):\n",
    "            batch_reviews = review_df['processed_review'][i:i + batch_size]\n",
    "            batch_index = batch_reviews.index\n",
    "            aspect_mentioned = [is_aspect_mentioned(review, aspect) for review in batch_reviews]\n",
    "            if any(aspect_mentioned):\n",
    "                filtered_reviews = [review for review, mentioned in zip(batch_reviews, aspect_mentioned) if mentioned]\n",
    "                aspect_reviews = [f\"{aspect}: {review[:512 - len(aspect) - 2]}\" for review in filtered_reviews]\n",
    "                results = pipeline(aspect_reviews)\n",
    "                scores = [weights[result['label']] * result['score'] for result in results]\n",
    "                score_index = [index for index, mentioned in zip(batch_index, aspect_mentioned) if mentioned]\n",
    "                review_df.loc[score_index, f'{aspect}_score'] = scores\n",
    "            else:\n",
    "                review_df.loc[batch_index, f'{aspect}_score'] = 0\n",
    "    for aspect in aspects:\n",
    "        review_df[f'{aspect}_score'] = pd.to_numeric(review_df[f'{aspect}_score'], errors='coerce')\n",
    "\n",
    "    return review_df"
   ]
  },
  {
   "cell_type": "code",
   "execution_count": 4,
   "metadata": {},
   "outputs": [
    {
     "name": "stdout",
     "output_type": "stream",
     "text": [
      "Starting processing for aspect: cleanliness\n"
     ]
    },
    {
     "name": "stderr",
     "output_type": "stream",
     "text": [
      "Batches for cleanliness:   0%|          | 0/4 [00:00<?, ?it/s]C:\\Users\\durud\\AppData\\Local\\Temp\\ipykernel_4344\\3128758015.py:47: FutureWarning: Setting an item of incompatible dtype is deprecated and will raise an error in a future version of pandas. Value '[-0.5148136019706726, -0.5313187837600708, -0.5274197459220886, -0.5092805624008179, -0.5340520143508911, -0.5279263854026794, -0.5268454551696777, -0.5215900540351868, -0.5326671600341797, -0.5379255414009094, -0.5370203256607056, -0.5253347754478455, -0.5296710729598999]' has dtype incompatible with int64, please explicitly cast to a compatible dtype first.\n",
      "  review_df.loc[score_index, f'{aspect}_score'] = scores\n",
      "Batches for cleanliness: 100%|██████████| 4/4 [00:03<00:00,  1.07it/s]\n"
     ]
    },
    {
     "name": "stdout",
     "output_type": "stream",
     "text": [
      "Starting processing for aspect: room\n"
     ]
    },
    {
     "name": "stderr",
     "output_type": "stream",
     "text": [
      "Batches for room:   0%|          | 0/4 [00:00<?, ?it/s]C:\\Users\\durud\\AppData\\Local\\Temp\\ipykernel_4344\\3128758015.py:47: FutureWarning: Setting an item of incompatible dtype is deprecated and will raise an error in a future version of pandas. Value '[-0.5146633982658386, -0.5291541218757629, -0.5239787697792053, -0.5083619356155396, -0.5281306505203247, -0.5276796817779541, -0.5251350998878479, -0.5254685878753662, -0.5322167277336121, -0.5292683839797974, -0.5373662710189819, -0.5295249819755554, -0.5349624156951904, -0.5342989563941956, -0.5218091607093811, -0.5314130187034607]' has dtype incompatible with int64, please explicitly cast to a compatible dtype first.\n",
      "  review_df.loc[score_index, f'{aspect}_score'] = scores\n",
      "Batches for room: 100%|██████████| 4/4 [00:04<00:00,  1.17s/it]\n"
     ]
    },
    {
     "name": "stdout",
     "output_type": "stream",
     "text": [
      "Starting processing for aspect: service\n"
     ]
    },
    {
     "name": "stderr",
     "output_type": "stream",
     "text": [
      "Batches for service:   0%|          | 0/4 [00:00<?, ?it/s]C:\\Users\\durud\\AppData\\Local\\Temp\\ipykernel_4344\\3128758015.py:47: FutureWarning: Setting an item of incompatible dtype is deprecated and will raise an error in a future version of pandas. Value '[-0.5263538956642151, -0.5271546840667725, -0.5328289270401001, -0.5276134610176086, -0.5250327587127686, -0.5197965502738953, -0.5278806090354919, -0.5356828570365906, -0.5309603810310364]' has dtype incompatible with int64, please explicitly cast to a compatible dtype first.\n",
      "  review_df.loc[score_index, f'{aspect}_score'] = scores\n",
      "Batches for service: 100%|██████████| 4/4 [00:03<00:00,  1.11it/s]\n"
     ]
    },
    {
     "name": "stdout",
     "output_type": "stream",
     "text": [
      "Starting processing for aspect: location\n"
     ]
    },
    {
     "name": "stderr",
     "output_type": "stream",
     "text": [
      "Batches for location:   0%|          | 0/4 [00:00<?, ?it/s]C:\\Users\\durud\\AppData\\Local\\Temp\\ipykernel_4344\\3128758015.py:47: FutureWarning: Setting an item of incompatible dtype is deprecated and will raise an error in a future version of pandas. Value '[-0.5145443677902222, -0.530580461025238, -0.5296411514282227, -0.5343500375747681, -0.5298359990119934, -0.5265358090400696, -0.5260491967201233, -0.5346215963363647, -0.5324031114578247, -0.5389194488525391, -0.5349498987197876, -0.5344467759132385, -0.5308535099029541]' has dtype incompatible with int64, please explicitly cast to a compatible dtype first.\n",
      "  review_df.loc[score_index, f'{aspect}_score'] = scores\n",
      "Batches for location: 100%|██████████| 4/4 [00:03<00:00,  1.09it/s]\n"
     ]
    },
    {
     "name": "stdout",
     "output_type": "stream",
     "text": [
      "Starting processing for aspect: value\n"
     ]
    },
    {
     "name": "stderr",
     "output_type": "stream",
     "text": [
      "Batches for value:   0%|          | 0/4 [00:00<?, ?it/s]C:\\Users\\durud\\AppData\\Local\\Temp\\ipykernel_4344\\3128758015.py:47: FutureWarning: Setting an item of incompatible dtype is deprecated and will raise an error in a future version of pandas. Value '[-0.5268963575363159, -0.5270764827728271, -0.5408250093460083, -0.5357846617698669, -0.5354559421539307]' has dtype incompatible with int64, please explicitly cast to a compatible dtype first.\n",
      "  review_df.loc[score_index, f'{aspect}_score'] = scores\n",
      "Batches for value: 100%|██████████| 4/4 [00:02<00:00,  1.73it/s]\n"
     ]
    },
    {
     "name": "stdout",
     "output_type": "stream",
     "text": [
      "Starting processing for aspect: safety\n"
     ]
    },
    {
     "name": "stderr",
     "output_type": "stream",
     "text": [
      "Batches for safety:   0%|          | 0/4 [00:00<?, ?it/s]C:\\Users\\durud\\AppData\\Local\\Temp\\ipykernel_4344\\3128758015.py:47: FutureWarning: Setting an item of incompatible dtype is deprecated and will raise an error in a future version of pandas. Value '[-0.5289530754089355, -0.5117403268814087, -0.5360584855079651, -0.5304983258247375]' has dtype incompatible with int64, please explicitly cast to a compatible dtype first.\n",
      "  review_df.loc[score_index, f'{aspect}_score'] = scores\n",
      "Batches for safety: 100%|██████████| 4/4 [00:01<00:00,  3.85it/s]\n"
     ]
    },
    {
     "name": "stdout",
     "output_type": "stream",
     "text": [
      "Starting processing for aspect: comfort\n"
     ]
    },
    {
     "name": "stderr",
     "output_type": "stream",
     "text": [
      "Batches for comfort:   0%|          | 0/4 [00:00<?, ?it/s]C:\\Users\\durud\\AppData\\Local\\Temp\\ipykernel_4344\\3128758015.py:47: FutureWarning: Setting an item of incompatible dtype is deprecated and will raise an error in a future version of pandas. Value '[-0.5314435362815857, -0.5299619436264038, -0.5174782276153564]' has dtype incompatible with int64, please explicitly cast to a compatible dtype first.\n",
      "  review_df.loc[score_index, f'{aspect}_score'] = scores\n",
      "Batches for comfort: 100%|██████████| 4/4 [00:00<00:00,  6.40it/s]\n"
     ]
    },
    {
     "name": "stdout",
     "output_type": "stream",
     "text": [
      "Starting processing for aspect: transportation\n"
     ]
    },
    {
     "name": "stderr",
     "output_type": "stream",
     "text": [
      "Batches for transportation:   0%|          | 0/4 [00:00<?, ?it/s]C:\\Users\\durud\\AppData\\Local\\Temp\\ipykernel_4344\\3128758015.py:47: FutureWarning: Setting an item of incompatible dtype is deprecated and will raise an error in a future version of pandas. Value '[-0.5164074897766113, -0.5304802060127258, -0.5365999937057495, -0.5302020907402039, -0.5300411581993103, -0.5255721211433411, -0.5359911322593689, -0.53461754322052, -0.5389713048934937, -0.535763680934906, -0.5282996296882629]' has dtype incompatible with int64, please explicitly cast to a compatible dtype first.\n",
      "  review_df.loc[score_index, f'{aspect}_score'] = scores\n",
      "Batches for transportation: 100%|██████████| 4/4 [00:03<00:00,  1.12it/s]\n"
     ]
    },
    {
     "name": "stdout",
     "output_type": "stream",
     "text": [
      "Starting processing for aspect: noise\n"
     ]
    },
    {
     "name": "stderr",
     "output_type": "stream",
     "text": [
      "Batches for noise:   0%|          | 0/4 [00:00<?, ?it/s]C:\\Users\\durud\\AppData\\Local\\Temp\\ipykernel_4344\\3128758015.py:47: FutureWarning: Setting an item of incompatible dtype is deprecated and will raise an error in a future version of pandas. Value '[-0.5171375870704651, -0.5356610417366028]' has dtype incompatible with int64, please explicitly cast to a compatible dtype first.\n",
      "  review_df.loc[score_index, f'{aspect}_score'] = scores\n",
      "Batches for noise: 100%|██████████| 4/4 [00:01<00:00,  3.95it/s]\n"
     ]
    }
   ],
   "source": [
    "review_df = process_reviews(distilbert_pipeline, weights)"
   ]
  },
  {
   "cell_type": "code",
   "execution_count": 5,
   "metadata": {},
   "outputs": [],
   "source": [
    "def map_score_to_label(score, negative_threshold=-0.2, positive_threshold=0.2):\n",
    "    if score < negative_threshold:\n",
    "        return -1\n",
    "    elif score > positive_threshold:\n",
    "        return 1\n",
    "    else:\n",
    "        return 0\n"
   ]
  },
  {
   "cell_type": "code",
   "execution_count": 6,
   "metadata": {},
   "outputs": [],
   "source": [
    "import pandas as pd\n",
    "annotated_df = pd.read_excel('xlsx/london_derlenmis_reviews.xlsx')\n",
    "annotated_df = annotated_df.drop('hotel_review', axis=1)\n",
    "\n",
    "reviewdf = review_df\n",
    "reviewdf = reviewdf.drop('processed_review', axis=1)"
   ]
  },
  {
   "cell_type": "code",
   "execution_count": 7,
   "metadata": {},
   "outputs": [
    {
     "name": "stdout",
     "output_type": "stream",
     "text": [
      "accuracy_mean: 0.46236559139784944\n",
      "precision_mean: 0.4401150437274218\n",
      "recall_mean: 0.46236559139784944\n",
      "f1_mean: 0.4273133047229073\n"
     ]
    },
    {
     "name": "stderr",
     "output_type": "stream",
     "text": [
      "c:\\Users\\durud\\AppData\\Local\\Programs\\Python\\Python312\\Lib\\site-packages\\sklearn\\metrics\\_classification.py:1509: UndefinedMetricWarning: Precision is ill-defined and being set to 0.0 in labels with no predicted samples. Use `zero_division` parameter to control this behavior.\n",
      "  _warn_prf(average, modifier, f\"{metric.capitalize()} is\", len(result))\n",
      "c:\\Users\\durud\\AppData\\Local\\Programs\\Python\\Python312\\Lib\\site-packages\\sklearn\\metrics\\_classification.py:1509: UndefinedMetricWarning: Precision is ill-defined and being set to 0.0 in labels with no predicted samples. Use `zero_division` parameter to control this behavior.\n",
      "  _warn_prf(average, modifier, f\"{metric.capitalize()} is\", len(result))\n",
      "c:\\Users\\durud\\AppData\\Local\\Programs\\Python\\Python312\\Lib\\site-packages\\sklearn\\metrics\\_classification.py:1509: UndefinedMetricWarning: Precision is ill-defined and being set to 0.0 in labels with no predicted samples. Use `zero_division` parameter to control this behavior.\n",
      "  _warn_prf(average, modifier, f\"{metric.capitalize()} is\", len(result))\n",
      "c:\\Users\\durud\\AppData\\Local\\Programs\\Python\\Python312\\Lib\\site-packages\\sklearn\\metrics\\_classification.py:1509: UndefinedMetricWarning: Precision is ill-defined and being set to 0.0 in labels with no predicted samples. Use `zero_division` parameter to control this behavior.\n",
      "  _warn_prf(average, modifier, f\"{metric.capitalize()} is\", len(result))\n",
      "c:\\Users\\durud\\AppData\\Local\\Programs\\Python\\Python312\\Lib\\site-packages\\sklearn\\metrics\\_classification.py:1509: UndefinedMetricWarning: Precision is ill-defined and being set to 0.0 in labels with no predicted samples. Use `zero_division` parameter to control this behavior.\n",
      "  _warn_prf(average, modifier, f\"{metric.capitalize()} is\", len(result))\n",
      "c:\\Users\\durud\\AppData\\Local\\Programs\\Python\\Python312\\Lib\\site-packages\\sklearn\\metrics\\_classification.py:1509: UndefinedMetricWarning: Precision is ill-defined and being set to 0.0 in labels with no predicted samples. Use `zero_division` parameter to control this behavior.\n",
      "  _warn_prf(average, modifier, f\"{metric.capitalize()} is\", len(result))\n",
      "c:\\Users\\durud\\AppData\\Local\\Programs\\Python\\Python312\\Lib\\site-packages\\sklearn\\metrics\\_classification.py:1509: UndefinedMetricWarning: Precision is ill-defined and being set to 0.0 in labels with no predicted samples. Use `zero_division` parameter to control this behavior.\n",
      "  _warn_prf(average, modifier, f\"{metric.capitalize()} is\", len(result))\n",
      "c:\\Users\\durud\\AppData\\Local\\Programs\\Python\\Python312\\Lib\\site-packages\\sklearn\\metrics\\_classification.py:1509: UndefinedMetricWarning: Precision is ill-defined and being set to 0.0 in labels with no predicted samples. Use `zero_division` parameter to control this behavior.\n",
      "  _warn_prf(average, modifier, f\"{metric.capitalize()} is\", len(result))\n",
      "c:\\Users\\durud\\AppData\\Local\\Programs\\Python\\Python312\\Lib\\site-packages\\sklearn\\metrics\\_classification.py:1509: UndefinedMetricWarning: Recall is ill-defined and being set to 0.0 in labels with no true samples. Use `zero_division` parameter to control this behavior.\n",
      "  _warn_prf(average, modifier, f\"{metric.capitalize()} is\", len(result))\n",
      "c:\\Users\\durud\\AppData\\Local\\Programs\\Python\\Python312\\Lib\\site-packages\\sklearn\\metrics\\_classification.py:1509: UndefinedMetricWarning: Precision is ill-defined and being set to 0.0 in labels with no predicted samples. Use `zero_division` parameter to control this behavior.\n",
      "  _warn_prf(average, modifier, f\"{metric.capitalize()} is\", len(result))\n"
     ]
    }
   ],
   "source": [
    "import pandas as pd\n",
    "from sklearn.metrics import accuracy_score, precision_score, recall_score, f1_score\n",
    "\n",
    "# Ensure both DataFrames are sorted similarly\n",
    "reviewdf = reviewdf.sort_values(by=['hotel_name', 'hotel_city']).reset_index(drop=True)\n",
    "annotated_df = annotated_df.sort_values(by=['hotel_name', 'hotel_city']).reset_index(drop=True)\n",
    "\n",
    "# Map DeBERTa scores to labels\n",
    "for aspect in ['cleanliness', 'room', 'service', 'location', 'value', 'safety', 'comfort', 'transportation', 'noise']:\n",
    "    reviewdf[f'{aspect}_label'] = reviewdf[f'{aspect}_score'].apply(map_score_to_label)\n",
    "\n",
    "accuracy_mean = 0\n",
    "precision_mean = 0\n",
    "recall_mean = 0\n",
    "f1_mean = 0\n",
    "inc = 0\n",
    "# Compare predictions to ground truth\n",
    "for aspect in ['cleanliness', 'room', 'service', 'location', 'value', 'safety', 'comfort', 'transportation', 'noise']:\n",
    "    accuracy = accuracy_score(annotated_df[f'{aspect}_score'], reviewdf[f'{aspect}_label'])\n",
    "    precision = precision_score(annotated_df[f'{aspect}_score'], reviewdf[f'{aspect}_label'], average='weighted')\n",
    "    recall = recall_score(annotated_df[f'{aspect}_score'], reviewdf[f'{aspect}_label'], average='weighted')\n",
    "    f1 = f1_score(annotated_df[f'{aspect}_score'], reviewdf[f'{aspect}_label'], average='weighted')\n",
    "    '''\n",
    "    print(f'Aspect: {aspect}')\n",
    "    print(f'Accuracy: {accuracy}')\n",
    "    print(f'Precision: {precision}')\n",
    "    print(f'Recall: {recall}')\n",
    "    print(f'F1-Score: {f1}\\n')\n",
    "    '''\n",
    "    accuracy_mean += accuracy\n",
    "    precision_mean += precision\n",
    "    recall_mean += recall\n",
    "    f1_mean += f1\n",
    "print(f'accuracy_mean: {accuracy_mean/9}')\n",
    "print(f'precision_mean: {precision_mean/9}')\n",
    "print(f'recall_mean: {recall_mean/9}')\n",
    "print(f'f1_mean: {f1_mean/9}')"
   ]
  }
 ],
 "metadata": {
  "kernelspec": {
   "display_name": "Python 3",
   "language": "python",
   "name": "python3"
  },
  "language_info": {
   "codemirror_mode": {
    "name": "ipython",
    "version": 3
   },
   "file_extension": ".py",
   "mimetype": "text/x-python",
   "name": "python",
   "nbconvert_exporter": "python",
   "pygments_lexer": "ipython3",
   "version": "3.12.3"
  }
 },
 "nbformat": 4,
 "nbformat_minor": 2
}
