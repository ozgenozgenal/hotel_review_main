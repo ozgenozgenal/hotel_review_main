{
 "cells": [
  {
   "cell_type": "code",
   "execution_count": 1,
   "metadata": {},
   "outputs": [
    {
     "name": "stderr",
     "output_type": "stream",
     "text": [
      "c:\\Users\\durud\\AppData\\Local\\Programs\\Python\\Python312\\Lib\\site-packages\\tqdm\\auto.py:21: TqdmWarning: IProgress not found. Please update jupyter and ipywidgets. See https://ipywidgets.readthedocs.io/en/stable/user_install.html\n",
      "  from .autonotebook import tqdm as notebook_tqdm\n"
     ]
    }
   ],
   "source": [
    "import os\n",
    "import re\n",
    "import pandas as pd\n",
    "import torch.nn.functional as F\n",
    "from transformers import AutoTokenizer, AutoModelForSequenceClassification, pipeline\n",
    "import logging\n",
    "from tqdm import tqdm\n",
    "import torch"
   ]
  },
  {
   "cell_type": "code",
   "execution_count": 3,
   "metadata": {},
   "outputs": [
    {
     "name": "stdout",
     "output_type": "stream",
     "text": [
      "                            hotel_name hotel_city  review_date  \\\n",
      "0  china_beijing_aloft_beijing_haidian    beijing  Oct 12 2009   \n",
      "1  china_beijing_aloft_beijing_haidian    beijing  Sep 25 2009   \n",
      "2  china_beijing_aloft_beijing_haidian    beijing   Aug 4 2009   \n",
      "3  china_beijing_aloft_beijing_haidian    beijing  Jul 17 2009   \n",
      "4  china_beijing_aloft_beijing_haidian    beijing  May 30 2009   \n",
      "\n",
      "                                        hotel_review  \n",
      "0  I stayed in this hotel for one night. As this ...  \n",
      "1  Stayed two nights at Aloft on the most recent ...  \n",
      "2  We stayed at the Aloft Beijing Haidian for 5 n...  \n",
      "3  I am glad to be the first person to post photo...  \n",
      "4  Stayed there for one night. The hotel is locat...  \n"
     ]
    }
   ],
   "source": [
    "def parse_hotel_reviews(data_dir):\n",
    "    logging.basicConfig(level=logging.INFO, format='%(asctime)s - %(levelname)s - %(message)s')\n",
    "    # Updated regex pattern to handle flexible spacing and separators\n",
    "    date_pattern = re.compile(r'(\\b(Jan|Feb|Mar|Apr|May|Jun|Jul|Aug|Sep|Oct|Nov|Dec)\\s\\d{1,2}\\s\\d{4})\\s+([^\\t\\n]*)\\s+(.*)')\n",
    "    data_frames = []\n",
    "\n",
    "    for root, dirs, files in os.walk(data_dir):\n",
    "        city = os.path.basename(root)\n",
    "        for file in files:\n",
    "            file_path = os.path.join(root, file)\n",
    "            hotel_name = os.path.splitext(file)[0]  # Assuming the file has no extension\n",
    "            try:\n",
    "                with open(file_path, 'r', encoding='ISO-8859-1') as f:\n",
    "                    content = f.read()\n",
    "\n",
    "                if not content:\n",
    "                    logging.warning(f'File {file_path} is empty.')\n",
    "                    continue\n",
    "\n",
    "                reviews = date_pattern.findall(content)\n",
    "                if not reviews:\n",
    "                    logging.warning(f'No reviews found in file {file_path}. Content: {content[:500]}')\n",
    "                    continue\n",
    "\n",
    "                reviews_data = [{'hotel_name': hotel_name, 'hotel_city': city, 'review_date': date, 'hotel_review': review.strip()} for date, _, title, review in reviews]\n",
    "                if reviews_data:\n",
    "                    data_frames.append(pd.DataFrame(reviews_data))\n",
    "\n",
    "            except Exception as e:\n",
    "                logging.error(f'Error processing file {file_path}: {e}')\n",
    "                continue\n",
    "\n",
    "    if data_frames:\n",
    "        review_df = pd.concat(data_frames, ignore_index=True)\n",
    "    else:\n",
    "        review_df = pd.DataFrame(columns=['hotel_name', 'hotel_city', 'review_date', 'hotel_review'])\n",
    "\n",
    "    return review_df\n",
    "\n",
    "dataset = 'beijing_deberta_microsoft'\n",
    "data_dir = 'data'\n",
    "review_df = parse_hotel_reviews(data_dir)\n",
    "print(review_df.head())\n",
    "review_df.to_csv(f'csv/{dataset}_derlenmis_reviews.csv', index=False)"
   ]
  },
  {
   "cell_type": "code",
   "execution_count": 4,
   "metadata": {},
   "outputs": [],
   "source": [
    "review_df = pd.read_csv(f'csv/{dataset}_derlenmis_reviews.csv')\n",
    "review_df = review_df.dropna(subset=['hotel_review'])\n",
    "review_df['processed_review'] = review_df['hotel_review'].str.lower().str.replace('\\t', ' ', regex=False)\n",
    "review_df = review_df.drop('hotel_review', axis=1)\n",
    "review_df = review_df.drop('review_date', axis=1)\n",
    "review_df.to_csv(f'csv/{dataset}_processed_reviews.csv', index=False)"
   ]
  },
  {
   "cell_type": "code",
   "execution_count": 5,
   "metadata": {},
   "outputs": [
    {
     "name": "stderr",
     "output_type": "stream",
     "text": [
      "c:\\Users\\durud\\AppData\\Local\\Programs\\Python\\Python312\\Lib\\site-packages\\huggingface_hub\\file_download.py:1132: FutureWarning: `resume_download` is deprecated and will be removed in version 1.0.0. Downloads always resume when possible. If you want to force a new download, use `force_download=True`.\n",
      "  warnings.warn(\n",
      "c:\\Users\\durud\\AppData\\Local\\Programs\\Python\\Python312\\Lib\\site-packages\\huggingface_hub\\file_download.py:157: UserWarning: `huggingface_hub` cache-system uses symlinks by default to efficiently store duplicated files but your machine does not support them in C:\\Users\\durud\\.cache\\huggingface\\hub\\models--microsoft--deberta-base. Caching files will still work but in a degraded version that might require more space on your disk. This warning can be disabled by setting the `HF_HUB_DISABLE_SYMLINKS_WARNING` environment variable. For more details, see https://huggingface.co/docs/huggingface_hub/how-to-cache#limitations.\n",
      "To support symlinks on Windows, you either need to activate Developer Mode or to run Python as an administrator. In order to see activate developer mode, see this article: https://docs.microsoft.com/en-us/windows/apps/get-started/enable-your-device-for-development\n",
      "  warnings.warn(message)\n",
      "Some weights of DebertaForSequenceClassification were not initialized from the model checkpoint at microsoft/deberta-base and are newly initialized: ['classifier.bias', 'classifier.weight', 'pooler.dense.bias', 'pooler.dense.weight']\n",
      "You should probably TRAIN this model on a down-stream task to be able to use it for predictions and inference.\n"
     ]
    }
   ],
   "source": [
    "deberta_tokenizer = AutoTokenizer.from_pretrained(\"microsoft/deberta-base\")\n",
    "deberta_model = AutoModelForSequenceClassification.from_pretrained(\"microsoft/deberta-base\")\n",
    "deberta_pipeline = pipeline(\"sentiment-analysis\", model=deberta_model, tokenizer=deberta_tokenizer)"
   ]
  },
  {
   "cell_type": "code",
   "execution_count": 6,
   "metadata": {},
   "outputs": [
    {
     "ename": "IndentationError",
     "evalue": "expected an indented block after 'for' statement on line 21 (4186952136.py, line 22)",
     "output_type": "error",
     "traceback": [
      "\u001b[1;36m  Cell \u001b[1;32mIn[6], line 22\u001b[1;36m\u001b[0m\n\u001b[1;33m    review_df[f'{aspect}_score'] = 0\u001b[0m\n\u001b[1;37m    ^\u001b[0m\n\u001b[1;31mIndentationError\u001b[0m\u001b[1;31m:\u001b[0m expected an indented block after 'for' statement on line 21\n"
     ]
    }
   ],
   "source": [
    "logging.basicConfig(level=logging.INFO, format='%(asctime)s - %(levelname)s - %(message)s')\n",
    "\n",
    "aspects = ['cleanliness', 'room', 'service', 'location', 'value', 'safety', 'comfort', 'transportation', 'noise']\n",
    "deberta_weights = {'NEGATIVE': -1, 'NEUTRAL': 0, 'POSITIVE': 1}\n",
    "\n",
    "aspect_keywords = {\n",
    "    'cleanliness': ['clean', 'dirty', 'smell', 'stink', 'stunk', 'filthy'],\n",
    "    'room': ['room', 'bed', 'suite', 'large'],\n",
    "    'service': ['service', 'staff', 'help', 'support'],\n",
    "    'location': ['location', 'close', 'area', 'far'],\n",
    "    'value': ['value', 'worth', 'price'],\n",
    "    'safety': ['safe', 'safety', 'secure', 'danger', 'dangerous'],\n",
    "    'comfort': ['comfort', 'comfortable', 'uncomfortable'],\n",
    "    'transportation': ['bus', 'metro', 'station', 'close', 'walk'],\n",
    "    'noise': ['sound', 'volume', 'noisy', 'noise']\n",
    "}\n",
    "review_df = pd.read_csv(f'csv/{dataset}_processed_reviews.csv')\n",
    "\n",
    "batch_size = 16\n",
    "def process_batch(batch_reviews, aspect):\n",
    "    for aspect in aspects:\n",
    "        review_df[f'{aspect}_score'] = 0\n",
    "        aspect_reviews = [f\"{aspect}: {review}\" for review in batch_reviews]\n",
    "        inputs = absa_tokenizer(aspect_reviews, return_tensors=\"pt\", padding=True, truncation=True)\n",
    "        outputs = absa_model(**inputs)\n",
    "        probs = F.softmax(outputs.logits, dim=-1)\n",
    "        return probs.detach().numpy()\n",
    "\n",
    "def is_aspect_mentioned(review, aspect):\n",
    "    keywords = aspect_keywords[aspect]\n",
    "    return any(keyword in review for keyword in keywords)\n",
    "\n",
    "\n",
    "\n",
    "review_df = pd.read_csv(f'csv/{dataset}_processed_reviews.csv')"
   ]
  },
  {
   "cell_type": "code",
   "execution_count": 15,
   "metadata": {},
   "outputs": [
    {
     "name": "stderr",
     "output_type": "stream",
     "text": [
      "2024-05-16 02:14:36,919 - INFO - Starting processing for aspect: cleanliness\n",
      "Batches for cleanliness:   0%|          | 0/3 [00:00<?, ?it/s]Asking to truncate to max_length but no maximum length is provided and the model has no predefined maximum length. Default to no truncation.\n",
      "C:\\Users\\durud\\AppData\\Local\\Temp\\ipykernel_9108\\2707505802.py:15: FutureWarning: Setting an item of incompatible dtype is deprecated and will raise an error in a future version of pandas. Value '[0.9822808085009456, 0.8573983013629913, 0.4965289235115051, 0.8957091234624386, 0.9326148964464664, 0.8547404706478119]' has dtype incompatible with int64, please explicitly cast to a compatible dtype first.\n",
      "  review_df.loc[score_index, f'{aspect}_score'] = scores\n",
      "Batches for cleanliness: 100%|██████████| 3/3 [00:22<00:00,  7.58s/it]\n",
      "2024-05-16 02:14:59,655 - INFO - Finished processing for aspect: cleanliness\n",
      "2024-05-16 02:14:59,656 - INFO - Starting processing for aspect: room\n",
      "Batches for room:   0%|          | 0/3 [00:00<?, ?it/s]C:\\Users\\durud\\AppData\\Local\\Temp\\ipykernel_9108\\2707505802.py:15: FutureWarning: Setting an item of incompatible dtype is deprecated and will raise an error in a future version of pandas. Value '[0.5873093456029892, 0.9763599359430373, 0.8480172082781792, 0.1461637020111084, 0.8333881795406342, 0.7926547341048717, 0.9804809831548482, 0.4462399333715439, 0.8998188581317663, 0.9063940420746803, -0.8752071000635624, 0.9864042976405472, 0.9867406426928937, -0.473209410905838, -0.8433009460568428]' has dtype incompatible with int64, please explicitly cast to a compatible dtype first.\n",
      "  review_df.loc[score_index, f'{aspect}_score'] = scores\n",
      "Batches for room: 100%|██████████| 3/3 [01:04<00:00, 21.45s/it]\n",
      "2024-05-16 02:16:04,004 - INFO - Finished processing for aspect: room\n",
      "2024-05-16 02:16:04,011 - INFO - Starting processing for aspect: service\n",
      "Batches for service:   0%|          | 0/3 [00:00<?, ?it/s]C:\\Users\\durud\\AppData\\Local\\Temp\\ipykernel_9108\\2707505802.py:15: FutureWarning: Setting an item of incompatible dtype is deprecated and will raise an error in a future version of pandas. Value '[0.3562731444835663, 0.9813176039606333, 0.8447328954935074, 0.3617277443408966, 0.8391914777457714, 0.9827426492702216, 0.9931878065690398, 0.4463478624820709, 0.9441809132695198, 0.8918957151472569, -0.9286633469164371, 0.9890555506572127, -0.934334222227335]' has dtype incompatible with int64, please explicitly cast to a compatible dtype first.\n",
      "  review_df.loc[score_index, f'{aspect}_score'] = scores\n",
      "Batches for service: 100%|██████████| 3/3 [00:32<00:00, 10.76s/it]\n",
      "2024-05-16 02:16:36,312 - INFO - Finished processing for aspect: service\n",
      "2024-05-16 02:16:36,313 - INFO - Starting processing for aspect: location\n",
      "Batches for location:   0%|          | 0/3 [00:00<?, ?it/s]C:\\Users\\durud\\AppData\\Local\\Temp\\ipykernel_9108\\2707505802.py:15: FutureWarning: Setting an item of incompatible dtype is deprecated and will raise an error in a future version of pandas. Value '[0.0605560839176178, 0.9627880407497287, 0.5682399421930313, -0.6334509700536728, 0.5867836773395538, 0.8611131869256496, 0.491531640291214, 0.8978948798030615, 0.8727642707526684, 0.9847089869435877, -0.509967565536499, -0.894476156681776]' has dtype incompatible with int64, please explicitly cast to a compatible dtype first.\n",
      "  review_df.loc[score_index, f'{aspect}_score'] = scores\n",
      "Batches for location: 100%|██████████| 3/3 [00:44<00:00, 14.87s/it]\n",
      "2024-05-16 02:17:20,933 - INFO - Finished processing for aspect: location\n",
      "2024-05-16 02:17:20,935 - INFO - Starting processing for aspect: value\n",
      "Batches for value:   0%|          | 0/3 [00:00<?, ?it/s]C:\\Users\\durud\\AppData\\Local\\Temp\\ipykernel_9108\\2707505802.py:15: FutureWarning: Setting an item of incompatible dtype is deprecated and will raise an error in a future version of pandas. Value '[0.9079222828149796, 0.3450453281402588, 0.8214658610522747, 0.7240892983973026, 0.9840224881190807, 0.8805602602660656, -0.5017177015542984, -0.8273348286747932]' has dtype incompatible with int64, please explicitly cast to a compatible dtype first.\n",
      "  review_df.loc[score_index, f'{aspect}_score'] = scores\n",
      "Batches for value: 100%|██████████| 3/3 [00:12<00:00,  4.22s/it]\n",
      "2024-05-16 02:17:33,615 - INFO - Finished processing for aspect: value\n",
      "2024-05-16 02:17:33,616 - INFO - Starting processing for aspect: safety\n",
      "Batches for safety:   0%|          | 0/3 [00:00<?, ?it/s]C:\\Users\\durud\\AppData\\Local\\Temp\\ipykernel_9108\\2707505802.py:15: FutureWarning: Setting an item of incompatible dtype is deprecated and will raise an error in a future version of pandas. Value '[-0.9176621846854687]' has dtype incompatible with int64, please explicitly cast to a compatible dtype first.\n",
      "  review_df.loc[score_index, f'{aspect}_score'] = scores\n",
      "Batches for safety: 100%|██████████| 3/3 [00:02<00:00,  1.04it/s]\n",
      "2024-05-16 02:17:36,501 - INFO - Finished processing for aspect: safety\n",
      "2024-05-16 02:17:36,502 - INFO - Starting processing for aspect: comfort\n",
      "Batches for comfort:   0%|          | 0/3 [00:00<?, ?it/s]C:\\Users\\durud\\AppData\\Local\\Temp\\ipykernel_9108\\2707505802.py:15: FutureWarning: Setting an item of incompatible dtype is deprecated and will raise an error in a future version of pandas. Value '[0.9824055470526218, 0.9032478351145983, 0.9365604352205992]' has dtype incompatible with int64, please explicitly cast to a compatible dtype first.\n",
      "  review_df.loc[score_index, f'{aspect}_score'] = scores\n",
      "Batches for comfort: 100%|██████████| 3/3 [00:10<00:00,  3.45s/it]\n",
      "2024-05-16 02:17:46,855 - INFO - Finished processing for aspect: comfort\n",
      "2024-05-16 02:17:46,856 - INFO - Starting processing for aspect: transportation\n",
      "Batches for transportation:   0%|          | 0/3 [00:00<?, ?it/s]C:\\Users\\durud\\AppData\\Local\\Temp\\ipykernel_9108\\2707505802.py:15: FutureWarning: Setting an item of incompatible dtype is deprecated and will raise an error in a future version of pandas. Value '[0.3537231981754303, 0.7355526015162468, 0.18316495418548584, 0.6635660976171494, 0.48380014300346375, 0.8873698487877846, 0.8328620754182339]' has dtype incompatible with int64, please explicitly cast to a compatible dtype first.\n",
      "  review_df.loc[score_index, f'{aspect}_score'] = scores\n",
      "Batches for transportation: 100%|██████████| 3/3 [00:40<00:00, 13.49s/it]\n",
      "2024-05-16 02:18:27,332 - INFO - Finished processing for aspect: transportation\n",
      "2024-05-16 02:18:27,335 - INFO - Starting processing for aspect: noise\n",
      "Batches for noise:   0%|          | 0/3 [00:00<?, ?it/s]C:\\Users\\durud\\AppData\\Local\\Temp\\ipykernel_9108\\2707505802.py:15: FutureWarning: Setting an item of incompatible dtype is deprecated and will raise an error in a future version of pandas. Value '[0.8853177167475224]' has dtype incompatible with int64, please explicitly cast to a compatible dtype first.\n",
      "  review_df.loc[score_index, f'{aspect}_score'] = scores\n",
      "Batches for noise: 100%|██████████| 3/3 [00:01<00:00,  2.00it/s]\n",
      "2024-05-16 02:18:28,844 - INFO - Finished processing for aspect: noise\n"
     ]
    }
   ],
   "source": [
    "for aspect in aspects:\n",
    "    logging.info(f\"Starting processing for aspect: {aspect}\")\n",
    "    for i in tqdm(range(0, len(review_df), batch_size), desc=f\"Batches for {aspect}\"):\n",
    "        batch_reviews = review_df['processed_review'][i:i + batch_size]\n",
    "        batch_index = batch_reviews.index\n",
    "        aspect_mentioned = [is_aspect_mentioned(review, aspect) for review in batch_reviews]\n",
    "        if any(aspect_mentioned):\n",
    "            filtered_reviews = [review for review, mentioned in zip(batch_reviews, aspect_mentioned) if mentioned]\n",
    "            probs = process_batch(filtered_reviews, aspect)\n",
    "            scores = [sum(weights[sentiment] * probs[j, k] for k, sentiment in enumerate(['negative', 'neutral', 'positive'])) for j in range(len(probs))]\n",
    "            score_index = [index for index, mentioned in zip(batch_index, aspect_mentioned) if mentioned]\n",
    "            review_df.loc[score_index, f'{aspect}_score'] = scores\n",
    "        else:\n",
    "            review_df.loc[batch_index, f'{aspect}_score'] = 0\n",
    "\n",
    "    logging.info(f\"Finished processing for aspect: {aspect}\")"
   ]
  },
  {
   "cell_type": "code",
   "execution_count": 16,
   "metadata": {},
   "outputs": [],
   "source": [
    "# Ensure aspect score columns are numeric\n",
    "for aspect in aspects:\n",
    "    review_df[f'{aspect}_score'] = pd.to_numeric(review_df[f'{aspect}_score'], errors='coerce')\n",
    "\n",
    "# Aggregate scores by hotel and city\n",
    "aggregated_scores = review_df.groupby(['hotel_name', 'hotel_city']).agg({\n",
    "    'cleanliness_score': 'mean',\n",
    "    'room_score': 'mean',\n",
    "    'service_score': 'mean',\n",
    "    'location_score': 'mean',\n",
    "    'value_score': 'mean',\n",
    "    'safety_score': 'mean',\n",
    "    'comfort_score': 'mean',\n",
    "    'transportation_score': 'mean',\n",
    "    'noise_score': 'mean'\n",
    "}).reset_index()\n",
    "\n",
    "# Save the aggregated scores\n",
    "aggregated_scores.to_csv(f'csv/{dataset}_aggregated_hotel_scores.csv', index=False)\n"
   ]
  },
  {
   "cell_type": "code",
   "execution_count": 17,
   "metadata": {},
   "outputs": [
    {
     "data": {
      "text/html": [
       "<div>\n",
       "<style scoped>\n",
       "    .dataframe tbody tr th:only-of-type {\n",
       "        vertical-align: middle;\n",
       "    }\n",
       "\n",
       "    .dataframe tbody tr th {\n",
       "        vertical-align: top;\n",
       "    }\n",
       "\n",
       "    .dataframe thead th {\n",
       "        text-align: right;\n",
       "    }\n",
       "</style>\n",
       "<table border=\"1\" class=\"dataframe\">\n",
       "  <thead>\n",
       "    <tr style=\"text-align: right;\">\n",
       "      <th></th>\n",
       "      <th>hotel_name</th>\n",
       "      <th>hotel_city</th>\n",
       "      <th>cleanliness_score</th>\n",
       "      <th>room_score</th>\n",
       "      <th>service_score</th>\n",
       "      <th>location_score</th>\n",
       "      <th>value_score</th>\n",
       "      <th>safety_score</th>\n",
       "      <th>comfort_score</th>\n",
       "      <th>transportation_score</th>\n",
       "      <th>noise_score</th>\n",
       "    </tr>\n",
       "  </thead>\n",
       "  <tbody>\n",
       "    <tr>\n",
       "      <th>0</th>\n",
       "      <td>china_beijing_aloft_beijing_haidian</td>\n",
       "      <td>beijing</td>\n",
       "      <td>0.538653</td>\n",
       "      <td>0.697316</td>\n",
       "      <td>0.563874</td>\n",
       "      <td>0.401005</td>\n",
       "      <td>0.466420</td>\n",
       "      <td>0.000000</td>\n",
       "      <td>0.314276</td>\n",
       "      <td>0.322668</td>\n",
       "      <td>0.000000</td>\n",
       "    </tr>\n",
       "    <tr>\n",
       "      <th>1</th>\n",
       "      <td>china_beijing_ascott_beijing</td>\n",
       "      <td>beijing</td>\n",
       "      <td>0.313631</td>\n",
       "      <td>0.576998</td>\n",
       "      <td>0.474162</td>\n",
       "      <td>0.502369</td>\n",
       "      <td>0.107623</td>\n",
       "      <td>0.033085</td>\n",
       "      <td>0.193290</td>\n",
       "      <td>0.450315</td>\n",
       "      <td>0.031618</td>\n",
       "    </tr>\n",
       "    <tr>\n",
       "      <th>2</th>\n",
       "      <td>china_beijing_autumn_garden_courtyard_hotel</td>\n",
       "      <td>beijing</td>\n",
       "      <td>0.156190</td>\n",
       "      <td>0.463816</td>\n",
       "      <td>0.661807</td>\n",
       "      <td>0.489531</td>\n",
       "      <td>0.158361</td>\n",
       "      <td>0.000000</td>\n",
       "      <td>0.321703</td>\n",
       "      <td>0.774139</td>\n",
       "      <td>0.000000</td>\n",
       "    </tr>\n",
       "  </tbody>\n",
       "</table>\n",
       "</div>"
      ],
      "text/plain": [
       "                                    hotel_name hotel_city  cleanliness_score  \\\n",
       "0          china_beijing_aloft_beijing_haidian    beijing           0.538653   \n",
       "1                 china_beijing_ascott_beijing    beijing           0.313631   \n",
       "2  china_beijing_autumn_garden_courtyard_hotel    beijing           0.156190   \n",
       "\n",
       "   room_score  service_score  location_score  value_score  safety_score  \\\n",
       "0    0.697316       0.563874        0.401005     0.466420      0.000000   \n",
       "1    0.576998       0.474162        0.502369     0.107623      0.033085   \n",
       "2    0.463816       0.661807        0.489531     0.158361      0.000000   \n",
       "\n",
       "   comfort_score  transportation_score  noise_score  \n",
       "0       0.314276              0.322668     0.000000  \n",
       "1       0.193290              0.450315     0.031618  \n",
       "2       0.321703              0.774139     0.000000  "
      ]
     },
     "metadata": {},
     "output_type": "display_data"
    }
   ],
   "source": [
    "display(aggregated_scores)"
   ]
  }
 ],
 "metadata": {
  "kernelspec": {
   "display_name": "Python 3",
   "language": "python",
   "name": "python3"
  },
  "language_info": {
   "codemirror_mode": {
    "name": "ipython",
    "version": 3
   },
   "file_extension": ".py",
   "mimetype": "text/x-python",
   "name": "python",
   "nbconvert_exporter": "python",
   "pygments_lexer": "ipython3",
   "version": "3.12.3"
  }
 },
 "nbformat": 4,
 "nbformat_minor": 2
}
