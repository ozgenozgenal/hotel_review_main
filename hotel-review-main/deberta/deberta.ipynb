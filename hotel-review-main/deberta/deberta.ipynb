{
 "cells": [
  {
   "cell_type": "code",
   "execution_count": 7,
   "metadata": {},
   "outputs": [
    {
     "name": "stdout",
     "output_type": "stream",
     "text": [
      "                     hotel_name hotel_city  review_date  \\\n",
      "0  china_beijing_ascott_beijing    beijing  Aug 17 2009   \n",
      "1  china_beijing_ascott_beijing    beijing  Mar 25 2009   \n",
      "2  china_beijing_ascott_beijing    beijing  Nov 18 2008   \n",
      "3  china_beijing_ascott_beijing    beijing  Sep 20 2008   \n",
      "4  china_beijing_ascott_beijing    beijing   Nov 1 2007   \n",
      "\n",
      "                                        hotel_review  \n",
      "0  don't rely on it if you have any mission-criti...  \n",
      "1  Excellent hotel for a family\\tThis hotel is pe...  \n",
      "2  Choice for Western Visitors\\tI stayed at The A...  \n",
      "3  Really Good Alternative Accomodation in Beijin...  \n",
      "4  Didn't want to leave!\\tWe rented a two bedroom...  \n"
     ]
    }
   ],
   "source": [
    "import os\n",
    "import re\n",
    "import pandas as pd\n",
    "\n",
    "def parse_hotel_reviews(data_dir):\n",
    "    date_pattern = re.compile(r'(\\b(Jan|Feb|Mar|Apr|May|Jun|Jul|Aug|Sep|Oct|Nov|Dec)\\s\\d{1,2}\\s\\d{4})\\t(.*)')\n",
    "    data_frames = []\n",
    "    \n",
    "    for root, dirs, files in os.walk(data_dir):\n",
    "        city = os.path.basename(root)\n",
    "        for file in files:\n",
    "            file_path = os.path.join(root, file)\n",
    "            hotel_name = os.path.splitext(file)[0]  # Assuming the file has no extension\n",
    "\n",
    "            with open(file_path, 'r', encoding='ISO-8859-1') as f:\n",
    "                content = f.read()\n",
    "\n",
    "            reviews = date_pattern.findall(content)\n",
    "            reviews_data = [{'hotel_name': hotel_name, 'hotel_city': city, 'review_date': date, 'hotel_review': review.strip()} for date, _, review in reviews]\n",
    "            if reviews_data:\n",
    "                data_frames.append(pd.DataFrame(reviews_data))\n",
    "\n",
    "    if data_frames:\n",
    "        review_df = pd.concat(data_frames, ignore_index=True)\n",
    "    else:\n",
    "        review_df = pd.DataFrame(columns=['hotel_name', 'hotel_city', 'review_date', 'hotel_review'])\n",
    "    return review_df\n",
    "\n",
    "data_dir = 'data'\n",
    "review_df = parse_hotel_reviews(data_dir)\n",
    "print(review_df.head())\n",
    "review_df.to_csv('csv/derlenmis_reviews.csv', index=False)"
   ]
  },
  {
   "cell_type": "code",
   "execution_count": 8,
   "metadata": {},
   "outputs": [],
   "source": [
    "review_df = pd.read_csv('csv/derlenmis_reviews.csv')\n",
    "\n",
    "review_df = review_df.dropna(subset=['hotel_review'])\n",
    "review_df['processed_review'] = review_df['hotel_review'].str.lower().str.replace('\\t', ' ', regex=False)\n",
    "review_df.to_csv('csv/processed_reviews.csv', index=False)"
   ]
  },
  {
   "cell_type": "code",
   "execution_count": 9,
   "metadata": {},
   "outputs": [],
   "source": [
    "review_df = pd.read_csv('csv/processed_reviews.csv')\n",
    "\n",
    "review_df = review_df.drop('hotel_review', axis=1)\n",
    "review_df = review_df.drop('review_date', axis=1)\n",
    "\n",
    "review_df.to_csv('csv/processed_reviews2.csv', index=False)"
   ]
  },
  {
   "cell_type": "code",
   "execution_count": 23,
   "metadata": {},
   "outputs": [
    {
     "name": "stderr",
     "output_type": "stream",
     "text": [
      "c:\\Users\\durud\\AppData\\Local\\Programs\\Python\\Python312\\Lib\\site-packages\\huggingface_hub\\file_download.py:1132: FutureWarning: `resume_download` is deprecated and will be removed in version 1.0.0. Downloads always resume when possible. If you want to force a new download, use `force_download=True`.\n",
      "  warnings.warn(\n",
      "c:\\Users\\durud\\AppData\\Local\\Programs\\Python\\Python312\\Lib\\site-packages\\transformers\\convert_slow_tokenizer.py:560: UserWarning: The sentencepiece tokenizer that you are converting to a fast tokenizer uses the byte fallback option which is not implemented in the fast tokenizers. In practice this means that the fast version of the tokenizer can produce unknown tokens whereas the sentencepiece version would have converted these unknown tokens into a sequence of byte tokens matching the original piece of text.\n",
      "  warnings.warn(\n"
     ]
    }
   ],
   "source": [
    "import pandas as pd\n",
    "import torch.nn.functional as F\n",
    "from transformers import AutoTokenizer, AutoModelForSequenceClassification, pipeline\n",
    "\n",
    "absa_tokenizer = AutoTokenizer.from_pretrained(\"yangheng/deberta-v3-base-absa-v1.1\")\n",
    "absa_model = AutoModelForSequenceClassification.from_pretrained(\"yangheng/deberta-v3-base-absa-v1.1\")\n",
    "\n",
    "review_df = pd.read_csv('csv/processed_reviews2.csv')\n",
    "aspects = ['cleanliness', 'room', 'service', 'location']\n",
    "\n",
    "for aspect in aspects:\n",
    "    for sentiment in ['negative', 'neutral', 'positive']:\n",
    "        review_df[f'{aspect}_{sentiment}'] = None"
   ]
  },
  {
   "cell_type": "code",
   "execution_count": 11,
   "metadata": {},
   "outputs": [],
   "source": [
    "def process_batch(batch_reviews, aspect):\n",
    "    aspect_reviews = [f\"{aspect}: {review}\" for review in batch_reviews]\n",
    "    inputs = absa_tokenizer(aspect_reviews, return_tensors=\"pt\", padding=True, truncation=True)\n",
    "    outputs = absa_model(**inputs)\n",
    "    probs = F.softmax(outputs.logits, dim=-1)\n",
    "    return probs.detach().numpy()"
   ]
  },
  {
   "cell_type": "code",
   "execution_count": 15,
   "metadata": {},
   "outputs": [
    {
     "name": "stderr",
     "output_type": "stream",
     "text": [
      "Batches for cleanliness:   0%|          | 0/3 [00:00<?, ?it/s]Asking to truncate to max_length but no maximum length is provided and the model has no predefined maximum length. Default to no truncation.\n",
      "Batches for cleanliness: 100%|██████████| 3/3 [01:19<00:00, 26.64s/it]\n",
      "Batches for room: 100%|██████████| 3/3 [01:13<00:00, 24.49s/it]\n",
      "Batches for service: 100%|██████████| 3/3 [01:17<00:00, 25.72s/it]\n",
      "Batches for location: 100%|██████████| 3/3 [01:07<00:00, 22.66s/it]\n"
     ]
    }
   ],
   "source": [
    "import logging\n",
    "from tqdm import tqdm\n",
    "\n",
    "logging.basicConfig(level=logging.INFO, format='%(asctime)s - %(levelname)s - %(message)s')\n",
    "batch_size = 16\n",
    "\n",
    "for aspect in aspects:\n",
    "    logging.info(f\"Starting processing for aspect: {aspect}\")\n",
    "    for i in tqdm(range(0, len(review_df), batch_size), desc=f\"Batches for {aspect}\"):\n",
    "        batch_reviews = review_df['processed_review'][i:i + batch_size]\n",
    "        probs = process_batch(batch_reviews, aspect)\n",
    "        \n",
    "        # Assign probabilities to the correct columns in the DataFrame\n",
    "        for j, index in enumerate(batch_reviews.index):\n",
    "            for k, sentiment in enumerate(['negative', 'neutral', 'positive']):\n",
    "                review_df.at[index, f'{aspect}_{sentiment}'] = probs[j, k]  \n",
    "    logging.info(f\"Finished processing for aspect: {aspect}\")"
   ]
  },
  {
   "cell_type": "code",
   "execution_count": 17,
   "metadata": {},
   "outputs": [
    {
     "name": "stdout",
     "output_type": "stream",
     "text": [
      "CSV file created successfully.\n"
     ]
    }
   ],
   "source": [
    "aggregation_dict = {f'{aspect}_{sentiment}': 'mean' for aspect in aspects for sentiment in ['negative', 'neutral', 'positive']}\n",
    "hotel_scores = review_df.groupby(['hotel_name', 'hotel_city']).agg(aggregation_dict).reset_index()\n",
    "\n",
    "# Simplify column names\n",
    "hotel_scores.columns = ['hotel_name', 'hotel_city'] + [f'{aspect}_{sentiment}_avg' for aspect in aspects for sentiment in ['negative', 'neutral', 'positive']]\n",
    "\n",
    "# Step 3: Exporting to CSV\n",
    "hotel_scores.to_csv('csv/hotel_aspect_scores.csv', index=False)"
   ]
  },
  {
   "cell_type": "code",
   "execution_count": 24,
   "metadata": {},
   "outputs": [
    {
     "data": {
      "text/html": [
       "<div>\n",
       "<style scoped>\n",
       "    .dataframe tbody tr th:only-of-type {\n",
       "        vertical-align: middle;\n",
       "    }\n",
       "\n",
       "    .dataframe tbody tr th {\n",
       "        vertical-align: top;\n",
       "    }\n",
       "\n",
       "    .dataframe thead th {\n",
       "        text-align: right;\n",
       "    }\n",
       "</style>\n",
       "<table border=\"1\" class=\"dataframe\">\n",
       "  <thead>\n",
       "    <tr style=\"text-align: right;\">\n",
       "      <th></th>\n",
       "      <th>hotel_name</th>\n",
       "      <th>hotel_city</th>\n",
       "      <th>cleanliness_negative_avg</th>\n",
       "      <th>cleanliness_neutral_avg</th>\n",
       "      <th>cleanliness_positive_avg</th>\n",
       "      <th>room_negative_avg</th>\n",
       "      <th>room_neutral_avg</th>\n",
       "      <th>room_positive_avg</th>\n",
       "      <th>service_negative_avg</th>\n",
       "      <th>service_neutral_avg</th>\n",
       "      <th>service_positive_avg</th>\n",
       "      <th>location_negative_avg</th>\n",
       "      <th>location_neutral_avg</th>\n",
       "      <th>location_positive_avg</th>\n",
       "    </tr>\n",
       "  </thead>\n",
       "  <tbody>\n",
       "    <tr>\n",
       "      <th>0</th>\n",
       "      <td>china_beijing_ascott_beijing</td>\n",
       "      <td>beijing</td>\n",
       "      <td>0.214055</td>\n",
       "      <td>0.026416</td>\n",
       "      <td>0.759529</td>\n",
       "      <td>0.209983</td>\n",
       "      <td>0.029642</td>\n",
       "      <td>0.760375</td>\n",
       "      <td>0.208955</td>\n",
       "      <td>0.025116</td>\n",
       "      <td>0.765929</td>\n",
       "      <td>0.210366</td>\n",
       "      <td>0.028248</td>\n",
       "      <td>0.761386</td>\n",
       "    </tr>\n",
       "    <tr>\n",
       "      <th>1</th>\n",
       "      <td>china_beijing_autumn_garden_courtyard_hotel</td>\n",
       "      <td>beijing</td>\n",
       "      <td>0.002752</td>\n",
       "      <td>0.010987</td>\n",
       "      <td>0.986261</td>\n",
       "      <td>0.002597</td>\n",
       "      <td>0.015762</td>\n",
       "      <td>0.98164</td>\n",
       "      <td>0.002238</td>\n",
       "      <td>0.012361</td>\n",
       "      <td>0.985401</td>\n",
       "      <td>0.004374</td>\n",
       "      <td>0.013237</td>\n",
       "      <td>0.982389</td>\n",
       "    </tr>\n",
       "    <tr>\n",
       "      <th>2</th>\n",
       "      <td>china_beijing_bamboo_garden_hotel</td>\n",
       "      <td>beijing</td>\n",
       "      <td>0.043412</td>\n",
       "      <td>0.085511</td>\n",
       "      <td>0.871077</td>\n",
       "      <td>0.033168</td>\n",
       "      <td>0.155444</td>\n",
       "      <td>0.811388</td>\n",
       "      <td>0.047042</td>\n",
       "      <td>0.106947</td>\n",
       "      <td>0.846011</td>\n",
       "      <td>0.093408</td>\n",
       "      <td>0.184631</td>\n",
       "      <td>0.721961</td>\n",
       "    </tr>\n",
       "    <tr>\n",
       "      <th>3</th>\n",
       "      <td>china_beijing_beijing_dong_fang_hotel</td>\n",
       "      <td>beijing</td>\n",
       "      <td>0.183577</td>\n",
       "      <td>0.068693</td>\n",
       "      <td>0.74773</td>\n",
       "      <td>0.171623</td>\n",
       "      <td>0.083884</td>\n",
       "      <td>0.744493</td>\n",
       "      <td>0.184984</td>\n",
       "      <td>0.075649</td>\n",
       "      <td>0.739366</td>\n",
       "      <td>0.188407</td>\n",
       "      <td>0.062479</td>\n",
       "      <td>0.749114</td>\n",
       "    </tr>\n",
       "  </tbody>\n",
       "</table>\n",
       "</div>"
      ],
      "text/plain": [
       "                                    hotel_name hotel_city  \\\n",
       "0                 china_beijing_ascott_beijing    beijing   \n",
       "1  china_beijing_autumn_garden_courtyard_hotel    beijing   \n",
       "2            china_beijing_bamboo_garden_hotel    beijing   \n",
       "3        china_beijing_beijing_dong_fang_hotel    beijing   \n",
       "\n",
       "  cleanliness_negative_avg cleanliness_neutral_avg cleanliness_positive_avg  \\\n",
       "0                 0.214055                0.026416                 0.759529   \n",
       "1                 0.002752                0.010987                 0.986261   \n",
       "2                 0.043412                0.085511                 0.871077   \n",
       "3                 0.183577                0.068693                  0.74773   \n",
       "\n",
       "  room_negative_avg room_neutral_avg room_positive_avg service_negative_avg  \\\n",
       "0          0.209983         0.029642          0.760375             0.208955   \n",
       "1          0.002597         0.015762           0.98164             0.002238   \n",
       "2          0.033168         0.155444          0.811388             0.047042   \n",
       "3          0.171623         0.083884          0.744493             0.184984   \n",
       "\n",
       "  service_neutral_avg service_positive_avg location_negative_avg  \\\n",
       "0            0.025116             0.765929              0.210366   \n",
       "1            0.012361             0.985401              0.004374   \n",
       "2            0.106947             0.846011              0.093408   \n",
       "3            0.075649             0.739366              0.188407   \n",
       "\n",
       "  location_neutral_avg location_positive_avg  \n",
       "0             0.028248              0.761386  \n",
       "1             0.013237              0.982389  \n",
       "2             0.184631              0.721961  \n",
       "3             0.062479              0.749114  "
      ]
     },
     "execution_count": 24,
     "metadata": {},
     "output_type": "execute_result"
    }
   ],
   "source": [
    "hotel_scores"
   ]
  }
 ],
 "metadata": {
  "kernelspec": {
   "display_name": "Python 3",
   "language": "python",
   "name": "python3"
  },
  "language_info": {
   "codemirror_mode": {
    "name": "ipython",
    "version": 3
   },
   "file_extension": ".py",
   "mimetype": "text/x-python",
   "name": "python",
   "nbconvert_exporter": "python",
   "pygments_lexer": "ipython3",
   "version": "3.12.3"
  }
 },
 "nbformat": 4,
 "nbformat_minor": 2
}
