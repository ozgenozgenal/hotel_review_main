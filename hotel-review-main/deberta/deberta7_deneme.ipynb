{
 "cells": [
  {
   "cell_type": "code",
   "execution_count": 1,
   "metadata": {},
   "outputs": [
    {
     "name": "stderr",
     "output_type": "stream",
     "text": [
      "c:\\Users\\durud\\AppData\\Local\\Programs\\Python\\Python312\\Lib\\site-packages\\tqdm\\auto.py:21: TqdmWarning: IProgress not found. Please update jupyter and ipywidgets. See https://ipywidgets.readthedocs.io/en/stable/user_install.html\n",
      "  from .autonotebook import tqdm as notebook_tqdm\n",
      "c:\\Users\\durud\\AppData\\Local\\Programs\\Python\\Python312\\Lib\\site-packages\\huggingface_hub\\file_download.py:1132: FutureWarning: `resume_download` is deprecated and will be removed in version 1.0.0. Downloads always resume when possible. If you want to force a new download, use `force_download=True`.\n",
      "  warnings.warn(\n",
      "c:\\Users\\durud\\AppData\\Local\\Programs\\Python\\Python312\\Lib\\site-packages\\transformers\\convert_slow_tokenizer.py:560: UserWarning: The sentencepiece tokenizer that you are converting to a fast tokenizer uses the byte fallback option which is not implemented in the fast tokenizers. In practice this means that the fast version of the tokenizer can produce unknown tokens whereas the sentencepiece version would have converted these unknown tokens into a sequence of byte tokens matching the original piece of text.\n",
      "  warnings.warn(\n"
     ]
    },
    {
     "name": "stdout",
     "output_type": "stream",
     "text": [
      "WARNING:tensorflow:From c:\\Users\\durud\\AppData\\Local\\Programs\\Python\\Python312\\Lib\\site-packages\\tf_keras\\src\\losses.py:2976: The name tf.losses.sparse_softmax_cross_entropy is deprecated. Please use tf.compat.v1.losses.sparse_softmax_cross_entropy instead.\n",
      "\n"
     ]
    }
   ],
   "source": [
    "from transformers import AutoTokenizer, AutoModelForSequenceClassification\n",
    "import torch.nn.functional as F\n",
    "from transformers import pipeline\n",
    "\n",
    "# Load Aspect-Based Sentiment Analysis model\n",
    "absa_tokenizer = AutoTokenizer.from_pretrained(\"yangheng/deberta-v3-base-absa-v1.1\")\n",
    "absa_model = AutoModelForSequenceClassification \\\n",
    "  .from_pretrained(\"yangheng/deberta-v3-base-absa-v1.1\")\n",
    "\n",
    "# Load a traditional Sentiment Analysis model\n",
    "sentiment_model_path = \"cardiffnlp/twitter-xlm-roberta-base-sentiment\"\n",
    "sentiment_model = pipeline(\"sentiment-analysis\", model=sentiment_model_path,\n",
    "                          tokenizer=sentiment_model_path)"
   ]
  },
  {
   "cell_type": "code",
   "execution_count": 3,
   "metadata": {},
   "outputs": [
    {
     "name": "stdout",
     "output_type": "stream",
     "text": [
      "Sentiment of aspect 'cleanliness' is:\n",
      "Label negative: 0.020028403028845787\n",
      "Label neutral: 0.1598777174949646\n",
      "Label positive: 0.8200939297676086\n",
      "\n",
      "Sentiment of aspect 'food' is:\n",
      "Label negative: 0.010594098828732967\n",
      "Label neutral: 0.09472019970417023\n",
      "Label positive: 0.894685685634613\n",
      "\n",
      "Sentiment of aspect 'service' is:\n",
      "Label negative: 0.017977967858314514\n",
      "Label neutral: 0.15523119270801544\n",
      "Label positive: 0.8267908096313477\n",
      "\n"
     ]
    }
   ],
   "source": [
    "sentence = \"Okay so I wanted to give my thoughts on the food and drink I had when I was at Disney a few weekends ago. Growing up we were never allowed to spend our money on park food, we would always pack our own sandwiches, snacks, etc. So this time I saved up hard to spoil my whole family and it was awesome!\"\\\n",
    "\"Cafe Orleans Best food ever! We got the burrata salad, ahi tuna, monte cristo, and the short rib. The burrata was great, I just wish it had come with some crusty bread. The tuna was fine, but to me nothing to really brag about. Of course the Monte cristo and the pomme frites were awesome! I couldn’t finish mine so I took the leftovers home and they definitely tasted great in the hotel the next day. The short ribs WERE AMAZING. 10/10 recommend that as an entree. We also tried the mint julep, which was too sweet for me but my dad loved it. I will be going here for future trips instead of Blue Bayou.\"\\\n",
    "\"Cocina Cucamonga (DCA) Potato tacos and the quesabirria. So the potato tacos were nice for a little crunch texture but the filling was kind of bland, so if I were to do it again I would pass and just get more of the quesabirria because that SLAPPED. I know everyone here raves about it and for good reason. I live in a region of US with fantastic Mexican food and this was on par with some great options here. Get them!\"\n",
    "\"Red Wagon Corn Dog Yes the corn dogs are great, however my brother and I both got one from here (different times) and we noticed they weren’t really cooked fully. They seemed inconsistent too. Still tasted good but there is another corn dog place in Disney that I recommend\"\\\n",
    "\"Stage Door Cafe Corn Dog Cooked perfectlyyyyy. Go here for a corn dog, it’s in Frontierland.\"\\\n",
    "\"Paradise Garden Grill (DCA) I got the carne asada burrito. PASS. It was fine but nothing special and for the price point, go for something else.\"\\\n",
    "\"Lamplight Lounge (DCA) We went here for the lobster nachos and drinks. The nachos were honestly okay in my opinion. I think they are a bit overhyped. I was expecting more flavor but it was kind of bland? Also they came out kind of luke warm. I was underwhelmed. As far as beverage goes, I got something off the menu that our server recommended. It was some kind of pina colada with 99 bananas in it (I think). It was really good and fun! I never have silly indulgent drinks like that so it was fun.\"\\\n",
    "\"Carthay Circle Lounge (DCA) This was the second time here and I was not very impressed. I will preface this with - my dad has celiac so we have to do gluten free whenever we share meals with him. We tried the Malai Kofta Potato, which had no alterations because it is already gluten free. In my opinion - awful. The “curry” tasted like tomato soup, and the kofta had no flavor. I didn’t even one to eat more than the first bite. We also tried the Strozzapreti Pasta with GF pasta. Also terrible. I would be curious to try it with regular pasta, but my assumption is it would still be bad. The sauce was so flavorless! I’m so bummed the food was bad. As far as drinks, I had an Espresso Martini and my brother an Old Fashion. My martini was nothing special, and the old fashion was pretty standard. Honestly I’m so sad this experience wasn’t positive as I love the art deco vibe of the restaurant but will not return next trip.\"\\\n",
    "\"Ronto Roaster Ok the Ronto Wrap is everything people say it is - absolutely delicious. I actually returned the following day and got another one. It’s spicy and sweet and the naan bread goes perfectly with it.\"\\\n",
    "\"Docking Bay 7 Black Caf - fun for the ‘gram. While it was decent, I probably won’t get it again. It wasn’t bad, though.\"\\\n",
    "\"Red Rose Tavern Grey Stuff - Omg I did not have high expectations because I’m not huge on frosting but this cake was amazing. I am going to get this on every future trip I ever take! The raspberry filling made it SO GOOD\"\\\n",
    "\"We also of course had a bunch of churros, which are better in Disneyland than DCA.\"\\\n",
    "\"That's all I remember. It was fun to spend my money on silly overpriced food.\"\n",
    "aspects = ['cleanliness', 'food', 'service']\n",
    "for aspect in aspects:\n",
    "  inputs = absa_tokenizer(f\"[CLS] {sentence} [SEP] {aspect} [SEP]\", return_tensors=\"pt\")\n",
    "  outputs = absa_model(**inputs)\n",
    "  probs = F.softmax(outputs.logits, dim=1)\n",
    "  probs = probs.detach().numpy()[0]\n",
    "  print(f\"Sentiment of aspect '{aspect}' is:\")\n",
    "  for prob, label in zip(probs, [\"negative\", \"neutral\", \"positive\"]):\n",
    "    print(f\"Label {label}: {prob}\")\n",
    "  print()"
   ]
  },
  {
   "cell_type": "code",
   "execution_count": 49,
   "metadata": {},
   "outputs": [
    {
     "name": "stdout",
     "output_type": "stream",
     "text": [
      "Sentiment of aspect 'food' is:\n",
      "Label negative: 0.01915118843317032\n",
      "Label neutral: 0.4054609537124634\n",
      "Label positive: 0.5753878951072693\n",
      "\n"
     ]
    }
   ],
   "source": [
    "# ABSA of \"food\"\n",
    "aspect = \"food\"\n",
    "inputs = absa_tokenizer(f\"[CLS] {sentence} [SEP] {aspect} [SEP]\", return_tensors=\"pt\")\n",
    "outputs = absa_model(**inputs)\n",
    "probs = F.softmax(outputs.logits, dim=1)\n",
    "probs = probs.detach().numpy()[0]\n",
    "print(f\"Sentiment of aspect '{aspect}' is:\")\n",
    "for prob, label in zip(probs, [\"negative\", \"neutral\", \"positive\"]):\n",
    "  print(f\"Label {label}: {prob}\")\n",
    "print()"
   ]
  }
 ],
 "metadata": {
  "kernelspec": {
   "display_name": "Python 3",
   "language": "python",
   "name": "python3"
  },
  "language_info": {
   "codemirror_mode": {
    "name": "ipython",
    "version": 3
   },
   "file_extension": ".py",
   "mimetype": "text/x-python",
   "name": "python",
   "nbconvert_exporter": "python",
   "pygments_lexer": "ipython3",
   "version": "3.12.3"
  }
 },
 "nbformat": 4,
 "nbformat_minor": 2
}
